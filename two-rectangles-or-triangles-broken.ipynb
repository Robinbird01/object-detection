{
 "cells": [
  {
   "cell_type": "code",
   "execution_count": 75,
   "metadata": {
    "ExecuteTime": {
     "end_time": "2016-07-06T23:25:52.986000",
     "start_time": "2016-07-06T23:25:52.454000"
    }
   },
   "outputs": [],
   "source": [
    "import numpy as np\n",
    "import matplotlib.pyplot as plt\n",
    "import matplotlib\n",
    "%matplotlib inline"
   ]
  },
  {
   "cell_type": "code",
   "execution_count": 76,
   "metadata": {
    "ExecuteTime": {
     "end_time": "2016-07-06T23:25:58.288000",
     "start_time": "2016-07-06T23:25:54.225000"
    }
   },
   "outputs": [
    {
     "data": {
      "text/plain": [
       "((60000, 16, 16), (60000, 2, 4))"
      ]
     },
     "execution_count": 76,
     "metadata": {},
     "output_type": "execute_result"
    }
   ],
   "source": [
    "num_imgs = 60000\n",
    "\n",
    "img_size = 16\n",
    "min_rect_size = 3\n",
    "max_rect_size = 8\n",
    "num_objects = 2\n",
    "\n",
    "bboxes = np.zeros((num_imgs, num_objects, 4))\n",
    "imgs = np.zeros((num_imgs, img_size, img_size))\n",
    "shapes = np.zeros((num_imgs, num_objects, 1))\n",
    "\n",
    "for i_img in range(num_imgs):\n",
    "    for i_object in range(num_objects):\n",
    "        if np.random.choice([True, False]):\n",
    "            width, height = np.random.randint(min_rect_size, max_rect_size, size=2)\n",
    "            x = np.random.randint(0, img_size - width)\n",
    "            y = np.random.randint(0, img_size - height)\n",
    "            imgs[i_img, x:x+width, y:y+height] = 1.  #???\n",
    "            bboxes[i_img, i_object] = [x, y, width, height]\n",
    "            shapes[i_img, i_object] = [0]\n",
    "        else:\n",
    "            size = np.random.randint(min_rect_size, max_rect_size)\n",
    "            x, y = np.random.randint(0, img_size - size, size=2)\n",
    "            mask = np.tril_indices(size)  #provide triangle...\n",
    "            \n",
    "            \n",
    "            imgs[i_img, x + mask[0], y + mask[1]] = 1.\n",
    "            bboxes[i_img, i_object] = [x, y, size, size]\n",
    "            shapes[i_img, i_object] = [1]\n",
    "        \n",
    "imgs.shape, bboxes.shape"
   ]
  },
  {
   "cell_type": "code",
   "execution_count": 77,
   "metadata": {
    "ExecuteTime": {
     "end_time": "2016-07-06T23:25:58.544000",
     "start_time": "2016-07-06T23:25:58.291000"
    }
   },
   "outputs": [
    {
     "data": {
      "image/png": "[encoded data removed]",
      "text/plain": [
       "<Figure size 432x288 with 1 Axes>"
      ]
     },
     "metadata": {
      "needs_background": "light"
     },
     "output_type": "display_data"
    }
   ],
   "source": [
    "i = 0\n",
    "# TODO: Why does the array have to be transposed?\n",
    "plt.imshow(imgs[i].T, cmap='Greys', interpolation='none', origin='lower', extent=[0, img_size, 0, img_size])\n",
    "for bbox, shape in zip(bboxes[i], shapes[i]):\n",
    "    plt.gca().add_patch(matplotlib.patches.Rectangle((bbox[0], bbox[1]), bbox[2], bbox[3], lw = 2, ec='r' if shape[0] == 0 else 'y', fc='none'))"
   ]
  },
  {
   "cell_type": "code",
   "execution_count": 78,
   "metadata": {
    "ExecuteTime": {
     "end_time": "2016-07-06T23:25:59.719000",
     "start_time": "2016-07-06T23:25:59.203000"
    }
   },
   "outputs": [
    {
     "data": {
      "text/plain": [
       "((60000, 256), -6.263508230593591e-19, 0.9999999999999998)"
      ]
     },
     "execution_count": 78,
     "metadata": {},
     "output_type": "execute_result"
    }
   ],
   "source": [
    "X = (imgs.reshape(num_imgs, -1) - np.mean(imgs)) / np.std(imgs)\n",
    "X.shape, np.mean(X), np.std(X)"
   ]
  },
  {
   "cell_type": "code",
   "execution_count": 79,
   "metadata": {
    "ExecuteTime": {
     "end_time": "2016-07-06T23:26:00.476000",
     "start_time": "2016-07-06T23:26:00.464000"
    }
   },
   "outputs": [
    {
     "name": "stdout",
     "output_type": "stream",
     "text": [
      "[[0.5625 0.375  0.3125 0.4375 0.     0.5625 0.625  0.3125 0.3125 1.    ]\n",
      " [0.1875 0.0625 0.1875 0.3125 0.     0.5625 0.625  0.3125 0.3125 1.    ]]\n"
     ]
    }
   ],
   "source": [
    "# TODO: We use binary classification here - for multiple classes, convert classes to one-hot vectors.\n",
    "y = np.concatenate([bboxes / img_size, shapes], axis = -1).reshape(num_imgs, -1)\n",
    "print(y[1:3])"
   ]
  },
  {
   "cell_type": "code",
   "execution_count": 80,
   "metadata": {
    "ExecuteTime": {
     "end_time": "2016-07-06T23:26:01.233000",
     "start_time": "2016-07-06T23:26:01.226000"
    }
   },
   "outputs": [
    {
     "name": "stdout",
     "output_type": "stream",
     "text": [
      "[[0.4375 0.1875 0.1875 0.4375 0.     0.25   0.75   0.375  0.1875 0.    ]]\n"
     ]
    }
   ],
   "source": [
    "i = int(0.8 * num_imgs)\n",
    "train_X = X[:i]\n",
    "test_X = X[i:]\n",
    "train_y = y[:i]\n",
    "test_y = y[i:]\n",
    "test_imgs = imgs[i:]\n",
    "test_bboxes = bboxes[i:]\n",
    "print(train_y[:1])"
   ]
  },
  {
   "cell_type": "code",
   "execution_count": 81,
   "metadata": {
    "ExecuteTime": {
     "end_time": "2016-07-06T23:26:06.005000",
     "start_time": "2016-07-06T23:26:02.162000"
    },
    "scrolled": true
   },
   "outputs": [
    {
     "name": "stdout",
     "output_type": "stream",
     "text": [
      "Model: \"sequential_1\"\n",
      "_________________________________________________________________\n",
      "Layer (type)                 Output Shape              Param #   \n",
      "=================================================================\n",
      "dense_2 (Dense)              (None, 256)               65792     \n",
      "_________________________________________________________________\n",
      "activation_1 (Activation)    (None, 256)               0         \n",
      "_________________________________________________________________\n",
      "dropout_1 (Dropout)          (None, 256)               0         \n",
      "_________________________________________________________________\n",
      "dense_3 (Dense)              (None, 10)                2570      \n",
      "=================================================================\n",
      "Total params: 68,362\n",
      "Trainable params: 68,362\n",
      "Non-trainable params: 0\n",
      "_________________________________________________________________\n"
     ]
    }
   ],
   "source": [
    "from keras.models import Sequential\n",
    "from keras.layers import Dense, Activation, Dropout\n",
    "from keras.optimizers import SGD\n",
    "from keras.callbacks import ModelCheckpoint\n",
    "from keras.models import load_model\n",
    "model = Sequential([\n",
    "        Dense(256, input_dim = X.shape[-1]), \n",
    "        Activation('relu'), \n",
    "        Dropout(0.6), \n",
    "        Dense(y.shape[-1])\n",
    "    ])\n",
    "#model.compile('adadelta', 'mse')#by author\n",
    "model.compile(loss = 'mse', optimizer = 'adam', metrics = ['accuracy'])#by Clio\n",
    "model.summary()"
   ]
  },
  {
   "cell_type": "code",
   "execution_count": 82,
   "metadata": {},
   "outputs": [],
   "source": [
    "def IOU(bbox1, bbox2):\n",
    "    '''Calculate overlap between two bounding boxes [x, y, w, h] as the area of intersection over the area of unity'''\n",
    "    x1, y1, w1, h1 = bbox1[0], bbox1[1], bbox1[2], bbox1[3]  # TODO: Check if its more performant if tensor elements are accessed directly below.\n",
    "    x2, y2, w2, h2 = bbox2[0], bbox2[1], bbox2[2], bbox2[3]\n",
    "\n",
    "    w_I = min(x1 + w1, x2 + w2) - max(x1, x2)\n",
    "    h_I = min(y1 + h1, y2 + h2) - max(y1, y2)\n",
    "    w_I = max(w_I, 0)  # set w_I and h_I zero if there is no intersection\n",
    "    h_I = max(h_I, 0)\n",
    "    I = w_I * h_I\n",
    "\n",
    "    U = w1 * h1 + w2 * h2 - I\n",
    "\n",
    "    return I / U"
   ]
  },
  {
   "cell_type": "code",
   "execution_count": 83,
   "metadata": {},
   "outputs": [],
   "source": [
    "def distance(bbox1, bbox2):\n",
    "    return np.sqrt(np.sum(np.square(bbox1[:2] - bbox2[:2])))"
   ]
  },
  {
   "cell_type": "code",
   "execution_count": 84,
   "metadata": {
    "ExecuteTime": {
     "end_time": "2016-07-06T23:32:54.867000",
     "start_time": "2016-07-06T23:26:06.009000"
    },
    "code_folding": [
     2,
     17
    ]
   },
   "outputs": [
    {
     "name": "stdout",
     "output_type": "stream",
     "text": [
      "Epoch:  0\n",
      "1500/1500 - 1s - loss: 0.1082 - accuracy: 0.3064 - val_loss: 0.0545 - val_accuracy: 0.4151\n",
      "Flipped 23524.0 training samples (49.00833333333333 %)\n",
      "Mean IOU: 0.22153950847885456\n",
      "Mean dist: 0.22330206256237178\n",
      "shape detect: 0.5686758802837348\n",
      "Epoch:  1\n",
      "1500/1500 - 2s - loss: 0.0672 - accuracy: 0.1938 - val_loss: 0.0639 - val_accuracy: 0.1619\n",
      "Flipped 17250.0 training samples (35.9375 %)\n",
      "Mean IOU: 0.09930184118337881\n",
      "Mean dist: 0.22963819184755824\n",
      "shape detect: 0.4551727810883012\n",
      "Epoch:  2\n",
      "1500/1500 - 1s - loss: 0.0675 - accuracy: 0.2363 - val_loss: 0.0693 - val_accuracy: 0.0923\n",
      "Flipped 12680.0 training samples (26.416666666666664 %)\n",
      "Mean IOU: 0.07832635836270205\n",
      "Mean dist: 0.24378073508495204\n",
      "shape detect: 0.3634677076629117\n",
      "Epoch:  3\n",
      "1500/1500 - 1s - loss: 0.0663 - accuracy: 0.2782 - val_loss: 0.0750 - val_accuracy: 0.0502\n",
      "Flipped 7969.0 training samples (16.602083333333333 %)\n",
      "Mean IOU: 0.07225751337411376\n",
      "Mean dist: 0.2425850966850487\n",
      "shape detect: 0.30877974533853314\n",
      "Epoch:  4\n",
      "1500/1500 - 1s - loss: 0.0649 - accuracy: 0.3095 - val_loss: 0.0764 - val_accuracy: 0.0479\n",
      "Flipped 3455.0 training samples (7.197916666666666 %)\n",
      "Mean IOU: 0.07449480091564813\n",
      "Mean dist: 0.2419959983613668\n",
      "shape detect: 0.28746417572852634\n",
      "Epoch:  5\n",
      "1500/1500 - 1s - loss: 0.0643 - accuracy: 0.3154 - val_loss: 0.0789 - val_accuracy: 0.0484\n",
      "Flipped 1847.0 training samples (3.847916666666667 %)\n",
      "Mean IOU: 0.0741493233727392\n",
      "Mean dist: 0.24130211548348013\n",
      "shape detect: 0.2749605838417035\n",
      "Epoch:  6\n",
      "1500/1500 - 1s - loss: 0.0640 - accuracy: 0.3200 - val_loss: 0.0796 - val_accuracy: 0.0486\n",
      "Flipped 1317.0 training samples (2.74375 %)\n",
      "Mean IOU: 0.07630545754596425\n",
      "Mean dist: 0.2395395705953789\n",
      "shape detect: 0.27181386466846785\n",
      "Epoch:  7\n",
      "1500/1500 - 1s - loss: 0.0637 - accuracy: 0.3250 - val_loss: 0.0799 - val_accuracy: 0.0514\n",
      "Flipped 1031.0 training samples (2.1479166666666667 %)\n",
      "Mean IOU: 0.07535790515329081\n",
      "Mean dist: 0.23991153159100403\n",
      "shape detect: 0.27283891507257163\n",
      "Epoch:  8\n",
      "1500/1500 - 1s - loss: 0.0634 - accuracy: 0.3262 - val_loss: 0.0775 - val_accuracy: 0.0523\n",
      "Flipped 571.0 training samples (1.1895833333333332 %)\n",
      "Mean IOU: 0.07863209107657465\n",
      "Mean dist: 0.24160629583378773\n",
      "shape detect: 0.27870458093589195\n",
      "Epoch:  9\n",
      "1500/1500 - 2s - loss: 0.0632 - accuracy: 0.3269 - val_loss: 0.0793 - val_accuracy: 0.0503\n",
      "Flipped 414.0 training samples (0.8625 %)\n",
      "Mean IOU: 0.07802168698014636\n",
      "Mean dist: 0.23870803424613457\n",
      "shape detect: 0.2754336672004613\n"
     ]
    }
   ],
   "source": [
    "# Flip bboxes during training.\n",
    "# Note: The validation loss is always quite big here because we don't flip the bounding boxes for the validation data. \n",
    "\n",
    "num_epochs = 10\n",
    "flipped_train_y = np.array(train_y)\n",
    "flipped = np.zeros((len(flipped_train_y), num_epochs))\n",
    "ious = np.zeros((len(flipped_train_y), num_epochs))\n",
    "dists = np.zeros((len(flipped_train_y), num_epochs))\n",
    "shape1 = np.zeros((len(flipped_train_y), num_epochs))\n",
    "\n",
    "for epoch in range(num_epochs):\n",
    "    print ('Epoch: ', epoch)\n",
    "    model.fit(train_X, flipped_train_y, epochs = 1, validation_data = (test_X, test_y), verbose = 2,\n",
    "              callbacks = [ModelCheckpoint('Two_Rectangles_or_Triangles_model.h5',\n",
    "                                           monitor = 'val_loss',\n",
    "                                           save_best_only = True)])\n",
    "    pred_y = model.predict(train_X)\n",
    "\n",
    "    for i, (pred_bboxes, exp_bboxes) in enumerate(zip(pred_y, flipped_train_y)):\n",
    "        \n",
    "        flipped_exp_bboxes = np.concatenate([exp_bboxes[4:], exp_bboxes[:4]])\n",
    "        #print(\"flipped_exp_bboxes = \\n\", flipped_exp_bboxes, \"\\nexp_bboxes = \\n\", exp_bboxes)\n",
    "        #print(\"exp_bboxes\", exp_bboxes, \"\\n\", exp_bboxes[0:4])\n",
    "        #print(\"flipped_exp_bboxes: \", flipped_exp_bboxes, \"\\n\", flipped_exp_bboxes[1:5])\n",
    "        mse = np.mean(np.square(pred_bboxes[0:4] - exp_bboxes[0:4]) + np.square(pred_bboxes[5:9] - exp_bboxes[5:9]))\n",
    "        mse_flipped = np.mean(np.square(pred_bboxes[0:4] - flipped_exp_bboxes[1:5]) + np.square(pred_bboxes[5:9] - flipped_exp_bboxes[6:]))\n",
    "        \n",
    "        #print(\"mse = \", mse, \"\\nmse_flipped = \", mse_flipped)\n",
    "        iou = IOU(pred_bboxes[:4], exp_bboxes[:4]) + IOU(pred_bboxes[5:], exp_bboxes[5:])\n",
    "        iou_flipped = IOU(pred_bboxes[:4], flipped_exp_bboxes[1:5]) + IOU(pred_bboxes[5:], flipped_exp_bboxes[6:])\n",
    "        \n",
    "        dist = distance(pred_bboxes[:4], exp_bboxes[:4]) + IOU(pred_bboxes[5:], exp_bboxes[5:])\n",
    "        dist_flipped = distance(pred_bboxes[:4], flipped_exp_bboxes[1:5]) + IOU(pred_bboxes[5:], flipped_exp_bboxes[6:])\n",
    "        \n",
    "        #print(\"pred_bboxes[:4] = \", pred_bboxes[:4], \"\\t[5:9] = \", pred_bboxes[5:9])\n",
    "        #print(\"exp_bboxes[:4] = \", exp_bboxes[:4], \"\\t[5:9] = \", exp_bboxes[5:9])\n",
    "        #print(\"flipped_exp_bboxes[1:4] = \", flipped_exp_bboxes[1:5], \" flipped_exp_bboxes[6:] = \", flipped_exp_bboxes[6:])\n",
    "        \n",
    "        shape = np.sqrt(np.square(pred_bboxes[4] - exp_bboxes[4]) + np.square(pred_bboxes[9] - exp_bboxes[9]))\n",
    "        shape_flipped = np.sqrt(np.square(pred_bboxes[4] - exp_bboxes[0]) + np.square(pred_bboxes[9] - flipped_exp_bboxes[5]))\n",
    "        \n",
    "        if mse_flipped < mse:  # using iou or dist here leads to similar results\n",
    "            flipped_train_y[i] = flipped_exp_bboxes\n",
    "            flipped[i, epoch] = 1\n",
    "            ious[i, epoch] = iou_flipped / 2.\n",
    "            dists[i, epoch] = dist_flipped / 2.\n",
    "            shape1[i, epoch] = shape_flipped\n",
    "        else:\n",
    "            ious[i, epoch] = iou / 2.\n",
    "            dists[i, epoch] = dist / 2.\n",
    "            shape1[i, epoch] = shape\n",
    "            \n",
    "    print ('Flipped {} training samples ({} %)'.format(np.sum(flipped[:, epoch]), np.mean(flipped[:, epoch]) * 100.))\n",
    "    print ('Mean IOU: {}'.format(np.mean(ious[:, epoch])))\n",
    "    print ('Mean dist: {}'.format(np.mean(dists[:, epoch])))\n",
    "    print ('shape detect: {}'.format(np.mean(shape1[:, epoch])))"
   ]
  },
  {
   "cell_type": "code",
   "execution_count": 85,
   "metadata": {
    "ExecuteTime": {
     "end_time": "2016-07-06T23:55:00.367000",
     "start_time": "2016-07-06T23:54:57.699000"
    }
   },
   "outputs": [
    {
     "data": {
      "text/plain": [
       "Text(0, 0.5, 'Training sample')"
      ]
     },
     "execution_count": 85,
     "metadata": {},
     "output_type": "execute_result"
    },
    {
     "data": {
      "image/png": "[encoded data removed]",
      "text/plain": [
       "<Figure size 432x288 with 1 Axes>"
      ]
     },
     "metadata": {
      "needs_background": "light"
     },
     "output_type": "display_data"
    }
   ],
   "source": [
    "plt.pcolor(flipped[:, :10000], cmap='Greys')\n",
    "plt.xlabel('Epoch')\n",
    "plt.ylabel('Training sample')"
   ]
  },
  {
   "cell_type": "code",
   "execution_count": 86,
   "metadata": {
    "ExecuteTime": {
     "end_time": "2016-07-06T23:55:01.541000",
     "start_time": "2016-07-06T23:55:01.245000"
    }
   },
   "outputs": [
    {
     "data": {
      "text/plain": [
       "(0.0, 1.0)"
      ]
     },
     "execution_count": 86,
     "metadata": {},
     "output_type": "execute_result"
    },
    {
     "data": {
      "image/png": "[encoded data removed]",
      "text/plain": [
       "<Figure size 432x288 with 1 Axes>"
      ]
     },
     "metadata": {
      "needs_background": "light"
     },
     "output_type": "display_data"
    }
   ],
   "source": [
    "plt.plot(np.mean(ious, axis=0), label='Mean IOU')  # between predicted and assigned true bboxes\n",
    "plt.plot(np.mean(dists, axis=0), label='Mean distance')  # relative to image size\n",
    "plt.plot(np.mean(shape1, axis=0), label='Mean shape') \n",
    "plt.legend()\n",
    "plt.xlabel('Epoch')\n",
    "plt.ylim(0, 1)"
   ]
  },
  {
   "cell_type": "code",
   "execution_count": 87,
   "metadata": {
    "ExecuteTime": {
     "end_time": "2016-07-06T23:55:02.905000",
     "start_time": "2016-07-06T23:55:02.569000"
    }
   },
   "outputs": [
    {
     "data": {
      "text/plain": [
       "((12000, 2, 4), (12000, 2, 1))"
      ]
     },
     "execution_count": 87,
     "metadata": {},
     "output_type": "execute_result"
    }
   ],
   "source": [
    "pred_y = model.predict(test_X)\n",
    "pred_y = pred_y.reshape(len(pred_y), num_objects, -1)\n",
    "pred_bboxes = pred_y[..., :4] * img_size\n",
    "pred_shapes = pred_y[..., 4:5]\n",
    "pred_bboxes.shape, pred_shapes.shape"
   ]
  },
  {
   "cell_type": "code",
   "execution_count": 88,
   "metadata": {
    "ExecuteTime": {
     "end_time": "2016-07-06T23:57:24.479000",
     "start_time": "2016-07-06T23:57:22.606000"
    }
   },
   "outputs": [
    {
     "data": {
      "image/png": "[encoded data removed]",
      "text/plain": [
       "<Figure size 1152x576 with 4 Axes>"
      ]
     },
     "metadata": {
      "needs_background": "light"
     },
     "output_type": "display_data"
    }
   ],
   "source": [
    "plt.figure(figsize=(16, 8))\n",
    "for i_subplot in range(1, 5):\n",
    "    plt.subplot(1, 4, i_subplot)\n",
    "    i = np.random.randint(len(test_X))\n",
    "    plt.imshow(test_imgs[i].T, cmap='Greys', interpolation='none', origin='lower', extent=[0, img_size, 0, img_size])\n",
    "    for pred_bbox, exp_bbox, pred_shape in zip(pred_bboxes[i], test_bboxes[i], pred_shapes[i]):\n",
    "        plt.gca().add_patch(matplotlib.patches.Rectangle((pred_bbox[0], pred_bbox[1]), pred_bbox[2], pred_bbox[3], ec='r' if pred_shape[0] <= 0.5 else 'y', fc='none'))\n",
    "        # TODO: Calculate max IOU with all expected bounding boxes.\n",
    "#         plt.annotate('IOU: {:.2f}'.format(IOU(pred_bbox, exp_bbox)), (pred_bbox[0], pred_bbox[1]+pred_bbox[3]+0.4), color='r')\n",
    "\n",
    "# plt.savefig('plots/bw-two-rectangles-or-triangles4.png', dpi=300)"
   ]
  },
  {
   "cell_type": "code",
   "execution_count": null,
   "metadata": {
    "collapsed": true
   },
   "outputs": [],
   "source": []
  }
 ],
 "metadata": {
  "kernelspec": {
   "display_name": "Python 3",
   "language": "python",
   "name": "python3"
  },
  "language_info": {
   "codemirror_mode": {
    "name": "ipython",
    "version": 3
   },
   "file_extension": ".py",
   "mimetype": "text/x-python",
   "name": "python",
   "nbconvert_exporter": "python",
   "pygments_lexer": "ipython3",
   "version": "3.8.3"
  },
  "toc": {
   "nav_menu": {},
   "number_sections": true,
   "sideBar": true,
   "skip_h1_title": false,
   "title_cell": "Table of Contents",
   "title_sidebar": "Contents",
   "toc_cell": false,
   "toc_position": {},
   "toc_section_display": true,
   "toc_window_display": false
  }
 },
 "nbformat": 4,
 "nbformat_minor": 1
}
