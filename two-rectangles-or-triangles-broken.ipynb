{
 "cells": [
  {
   "cell_type": "code",
   "execution_count": 1,
   "metadata": {
    "ExecuteTime": {
     "end_time": "2016-07-06T23:25:52.986000",
     "start_time": "2016-07-06T23:25:52.454000"
    }
   },
   "outputs": [],
   "source": [
    "import numpy as np\n",
    "import matplotlib.pyplot as plt\n",
    "import matplotlib\n",
    "%matplotlib inline"
   ]
  },
  {
   "cell_type": "code",
   "execution_count": 2,
   "metadata": {
    "ExecuteTime": {
     "end_time": "2016-07-06T23:25:58.288000",
     "start_time": "2016-07-06T23:25:54.225000"
    }
   },
   "outputs": [
    {
     "data": {
      "text/plain": [
       "((80000, 16, 16), (80000, 2, 4))"
      ]
     },
     "execution_count": 2,
     "metadata": {},
     "output_type": "execute_result"
    }
   ],
   "source": [
    "num_imgs = 80000\n",
    "\n",
    "img_size = 16\n",
    "min_rect_size = 3\n",
    "max_rect_size = 8\n",
    "num_objects = 2\n",
    "\n",
    "bboxes = np.zeros((num_imgs, num_objects, 4))\n",
    "imgs = np.zeros((num_imgs, img_size, img_size))\n",
    "shapes = np.zeros((num_imgs, num_objects, 1))\n",
    "\n",
    "for i_img in range(num_imgs):\n",
    "    for i_object in range(num_objects):\n",
    "        if np.random.choice([True, False]):\n",
    "            width, height = np.random.randint(min_rect_size, max_rect_size, size=2)\n",
    "            x = np.random.randint(0, img_size - width)\n",
    "            y = np.random.randint(0, img_size - height)\n",
    "            imgs[i_img, x:x+width, y:y+height] = 1.  #???\n",
    "            bboxes[i_img, i_object] = [x, y, width, height]\n",
    "            shapes[i_img, i_object] = [0]\n",
    "        else:\n",
    "            size = np.random.randint(min_rect_size, max_rect_size)\n",
    "            x, y = np.random.randint(0, img_size - size, size=2)\n",
    "            mask = np.tril_indices(size)  #provide triangle...\n",
    "            \n",
    "            \n",
    "            imgs[i_img, x + mask[0], y + mask[1]] = 1.\n",
    "            bboxes[i_img, i_object] = [x, y, size, size]\n",
    "            shapes[i_img, i_object] = [1]\n",
    "        \n",
    "imgs.shape, bboxes.shape"
   ]
  },
  {
   "cell_type": "code",
   "execution_count": 3,
   "metadata": {
    "ExecuteTime": {
     "end_time": "2016-07-06T23:25:58.544000",
     "start_time": "2016-07-06T23:25:58.291000"
    }
   },
   "outputs": [
    {
     "data": {
      "image/png": "[encoded data removed]",
      "text/plain": [
       "<Figure size 432x288 with 1 Axes>"
      ]
     },
     "metadata": {
      "needs_background": "light"
     },
     "output_type": "display_data"
    }
   ],
   "source": [
    "i = 0\n",
    "# TODO: Why does the array have to be transposed?\n",
    "plt.imshow(imgs[i].T, cmap='Greys', interpolation='none', origin='lower', extent=[0, img_size, 0, img_size])\n",
    "for bbox, shape in zip(bboxes[i], shapes[i]):\n",
    "    plt.gca().add_patch(matplotlib.patches.Rectangle((bbox[0], bbox[1]), bbox[2], bbox[3], lw = 2, ec='r' if shape[0] == 0 else 'y', fc='none'))"
   ]
  },
  {
   "cell_type": "code",
   "execution_count": 4,
   "metadata": {
    "ExecuteTime": {
     "end_time": "2016-07-06T23:25:59.719000",
     "start_time": "2016-07-06T23:25:59.203000"
    }
   },
   "outputs": [
    {
     "data": {
      "text/plain": [
       "((80000, 256), 3.935601844418102e-17, 1.0000000000000004)"
      ]
     },
     "execution_count": 4,
     "metadata": {},
     "output_type": "execute_result"
    }
   ],
   "source": [
    "X = (imgs.reshape(num_imgs, -1) - np.mean(imgs)) / np.std(imgs)\n",
    "X.shape, np.mean(X), np.std(X)"
   ]
  },
  {
   "cell_type": "code",
   "execution_count": 5,
   "metadata": {
    "ExecuteTime": {
     "end_time": "2016-07-06T23:26:00.476000",
     "start_time": "2016-07-06T23:26:00.464000"
    }
   },
   "outputs": [
    {
     "name": "stdout",
     "output_type": "stream",
     "text": [
      "[[0.5    0.125  0.4375 0.4375 1.     0.125  0.25   0.4375 0.4375 1.    ]\n",
      " [0.1875 0.4375 0.3125 0.375  0.     0.375  0.5    0.3125 0.3125 1.    ]\n",
      " [0.1875 0.5625 0.3125 0.3125 1.     0.     0.1875 0.25   0.3125 0.    ]]\n"
     ]
    }
   ],
   "source": [
    "# TODO: We use binary classification here - for multiple classes, convert classes to one-hot vectors.\n",
    "y = np.concatenate([bboxes / img_size, shapes], axis = -1).reshape(num_imgs, -1)\n",
    "print(y[:3])"
   ]
  },
  {
   "cell_type": "code",
   "execution_count": 6,
   "metadata": {
    "ExecuteTime": {
     "end_time": "2016-07-06T23:26:01.233000",
     "start_time": "2016-07-06T23:26:01.226000"
    }
   },
   "outputs": [
    {
     "name": "stdout",
     "output_type": "stream",
     "text": [
      "[[0.5    0.125  0.4375 0.4375 1.     0.125  0.25   0.4375 0.4375 1.    ]\n",
      " [0.1875 0.4375 0.3125 0.375  0.     0.375  0.5    0.3125 0.3125 1.    ]\n",
      " [0.1875 0.5625 0.3125 0.3125 1.     0.     0.1875 0.25   0.3125 0.    ]]\n"
     ]
    }
   ],
   "source": [
    "i = int(0.8 * num_imgs)\n",
    "train_X = X[:i]\n",
    "test_X = X[i:]\n",
    "train_y = y[:i]\n",
    "test_y = y[i:]\n",
    "test_imgs = imgs[i:]\n",
    "test_bboxes = bboxes[i:]\n",
    "print(train_y[:3])"
   ]
  },
  {
   "cell_type": "code",
   "execution_count": 7,
   "metadata": {
    "ExecuteTime": {
     "end_time": "2016-07-06T23:26:06.005000",
     "start_time": "2016-07-06T23:26:02.162000"
    },
    "scrolled": true
   },
   "outputs": [
    {
     "name": "stdout",
     "output_type": "stream",
     "text": [
      "Model: \"sequential\"\n",
      "_________________________________________________________________\n",
      "Layer (type)                 Output Shape              Param #   \n",
      "=================================================================\n",
      "dense (Dense)                (None, 256)               65792     \n",
      "_________________________________________________________________\n",
      "activation (Activation)      (None, 256)               0         \n",
      "_________________________________________________________________\n",
      "dropout (Dropout)            (None, 256)               0         \n",
      "_________________________________________________________________\n",
      "dense_1 (Dense)              (None, 10)                2570      \n",
      "=================================================================\n",
      "Total params: 68,362\n",
      "Trainable params: 68,362\n",
      "Non-trainable params: 0\n",
      "_________________________________________________________________\n"
     ]
    }
   ],
   "source": [
    "from keras.models import Sequential\n",
    "from keras.layers import Dense, Activation, Dropout\n",
    "from keras.optimizers import SGD\n",
    "from keras.callbacks import ModelCheckpoint\n",
    "from keras.models import load_model\n",
    "model = Sequential([\n",
    "        Dense(256, input_dim = X.shape[-1]), \n",
    "        Activation('relu'), \n",
    "        Dropout(0.6), \n",
    "        Dense(y.shape[-1])\n",
    "    ])\n",
    "#model.compile('adadelta', 'mse')#by author\n",
    "model.compile(loss = 'mse', optimizer = 'adam', metrics = ['accuracy'])#by Clio\n",
    "model.summary()"
   ]
  },
  {
   "cell_type": "code",
   "execution_count": 8,
   "metadata": {},
   "outputs": [],
   "source": [
    "def IOU(bbox1, bbox2):\n",
    "    '''Calculate overlap between two bounding boxes [x, y, w, h] as the area of intersection over the area of unity'''\n",
    "    x1, y1, w1, h1 = bbox1[0], bbox1[1], bbox1[2], bbox1[3]  # TODO: Check if its more performant if tensor elements are accessed directly below.\n",
    "    x2, y2, w2, h2 = bbox2[0], bbox2[1], bbox2[2], bbox2[3]\n",
    "\n",
    "    w_I = min(x1 + w1, x2 + w2) - max(x1, x2)\n",
    "    h_I = min(y1 + h1, y2 + h2) - max(y1, y2)\n",
    "    w_I = max(w_I, 0)  # set w_I and h_I zero if there is no intersection\n",
    "    h_I = max(h_I, 0)\n",
    "    I = w_I * h_I\n",
    "\n",
    "    U = w1 * h1 + w2 * h2 - I\n",
    "\n",
    "    return I / U"
   ]
  },
  {
   "cell_type": "code",
   "execution_count": 9,
   "metadata": {},
   "outputs": [],
   "source": [
    "def distance(bbox1, bbox2):\n",
    "    return np.sqrt(np.sum(np.square(bbox1[:2] - bbox2[:2])))"
   ]
  },
  {
   "cell_type": "code",
   "execution_count": 10,
   "metadata": {
    "ExecuteTime": {
     "end_time": "2016-07-06T23:32:54.867000",
     "start_time": "2016-07-06T23:26:06.009000"
    },
    "code_folding": [
     2,
     17
    ]
   },
   "outputs": [
    {
     "name": "stdout",
     "output_type": "stream",
     "text": [
      "Epoch:  0\n",
      "2000/2000 - 3s - loss: 0.0944 - accuracy: 0.3130 - val_loss: 0.0530 - val_accuracy: 0.3080\n",
      "Flipped 31412.0 training samples (49.08125 %)\n",
      "Mean IOU: 0.13985445968982227\n",
      "Mean dist: 0.2067288903367093\n",
      "shape detect: 0.5946461323915417\n",
      "Epoch:  1\n",
      "2000/2000 - 2s - loss: 0.0542 - accuracy: 0.3634 - val_loss: 0.0491 - val_accuracy: 0.4124\n",
      "Flipped 17852.0 training samples (27.89375 %)\n",
      "Mean IOU: 0.21302925694048275\n",
      "Mean dist: 0.20770282193907202\n",
      "shape detect: 0.544053584014483\n",
      "Epoch:  2\n",
      "2000/2000 - 2s - loss: 0.0485 - accuracy: 0.4403 - val_loss: 0.0496 - val_accuracy: 0.4436\n",
      "Flipped 8996.0 training samples (14.05625 %)\n",
      "Mean IOU: 0.29964406147951267\n",
      "Mean dist: 0.22219041801871678\n",
      "shape detect: 0.49461320926061075\n",
      "Epoch:  3\n",
      "2000/2000 - 2s - loss: 0.0440 - accuracy: 0.4845 - val_loss: 0.0507 - val_accuracy: 0.4038\n",
      "Flipped 6545.0 training samples (10.2265625 %)\n",
      "Mean IOU: 0.33868756817259177\n",
      "Mean dist: 0.23712959109876935\n",
      "shape detect: 0.47151197348473894\n",
      "Epoch:  4\n",
      "2000/2000 - 2s - loss: 0.0411 - accuracy: 0.5073 - val_loss: 0.0523 - val_accuracy: 0.4194\n",
      "Flipped 4897.0 training samples (7.651562500000001 %)\n",
      "Mean IOU: 0.37381791772816475\n",
      "Mean dist: 0.2460156200763153\n",
      "shape detect: 0.4388217023018722\n",
      "Epoch:  5\n",
      "2000/2000 - 2s - loss: 0.0390 - accuracy: 0.5269 - val_loss: 0.0518 - val_accuracy: 0.4178\n",
      "Flipped 4401.0 training samples (6.8765624999999995 %)\n",
      "Mean IOU: 0.37102989184218826\n",
      "Mean dist: 0.24359811054327937\n",
      "shape detect: 0.4340149255384057\n",
      "Epoch:  6\n",
      "2000/2000 - 3s - loss: 0.0376 - accuracy: 0.5393 - val_loss: 0.0525 - val_accuracy: 0.4049\n",
      "Flipped 3504.0 training samples (5.475 %)\n",
      "Mean IOU: 0.39681673347423646\n",
      "Mean dist: 0.2527449750952312\n",
      "shape detect: 0.4129950243015421\n",
      "Epoch:  7\n",
      "2000/2000 - 2s - loss: 0.0366 - accuracy: 0.5502 - val_loss: 0.0529 - val_accuracy: 0.4236\n",
      "Flipped 2783.0 training samples (4.3484375 %)\n",
      "Mean IOU: 0.39733638333351656\n",
      "Mean dist: 0.24907846470649805\n",
      "shape detect: 0.4061991596277261\n",
      "Epoch:  8\n",
      "2000/2000 - 2s - loss: 0.0360 - accuracy: 0.5549 - val_loss: 0.0532 - val_accuracy: 0.3867\n",
      "Flipped 2815.0 training samples (4.3984375 %)\n",
      "Mean IOU: 0.40570939760336866\n",
      "Mean dist: 0.25776264253193837\n",
      "shape detect: 0.3946009202497089\n",
      "Epoch:  9\n",
      "2000/2000 - 3s - loss: 0.0352 - accuracy: 0.5619 - val_loss: 0.0536 - val_accuracy: 0.3933\n",
      "Flipped 3028.0 training samples (4.73125 %)\n",
      "Mean IOU: 0.4034748122206927\n",
      "Mean dist: 0.2548204022708756\n",
      "shape detect: 0.38150148039779214\n",
      "Epoch:  10\n",
      "2000/2000 - 2s - loss: 0.0347 - accuracy: 0.5674 - val_loss: 0.0541 - val_accuracy: 0.3900\n",
      "Flipped 2836.0 training samples (4.4312499999999995 %)\n",
      "Mean IOU: 0.4136202566116419\n",
      "Mean dist: 0.2553257431323022\n",
      "shape detect: 0.38595323847872587\n",
      "Epoch:  11\n",
      "2000/2000 - 2s - loss: 0.0343 - accuracy: 0.5660 - val_loss: 0.0534 - val_accuracy: 0.3778\n",
      "Flipped 2593.0 training samples (4.0515625 %)\n",
      "Mean IOU: 0.41270917940003155\n",
      "Mean dist: 0.25669335856583614\n",
      "shape detect: 0.38521635361240586\n",
      "Epoch:  12\n",
      "2000/2000 - 3s - loss: 0.0339 - accuracy: 0.5735 - val_loss: 0.0535 - val_accuracy: 0.4182\n",
      "Flipped 2948.0 training samples (4.60625 %)\n",
      "Mean IOU: 0.408501132126543\n",
      "Mean dist: 0.2551512184821884\n",
      "shape detect: 0.36939915700440545\n",
      "Epoch:  13\n",
      "2000/2000 - 2s - loss: 0.0334 - accuracy: 0.5747 - val_loss: 0.0533 - val_accuracy: 0.3924\n",
      "Flipped 2390.0 training samples (3.734375 %)\n",
      "Mean IOU: 0.4236697736496322\n",
      "Mean dist: 0.2574967691196058\n",
      "shape detect: 0.3754135754759519\n",
      "Epoch:  14\n",
      "WARNING:tensorflow:Callbacks method `on_test_batch_begin` is slow compared to the batch time (batch time: 0.0001s vs `on_test_batch_begin` time: 0.0100s). Check your callbacks.\n",
      "2000/2000 - 2s - loss: 0.0330 - accuracy: 0.5783 - val_loss: 0.0536 - val_accuracy: 0.3714\n",
      "Flipped 2518.0 training samples (3.9343749999999997 %)\n",
      "Mean IOU: 0.41833052997570397\n",
      "Mean dist: 0.2575321674783022\n",
      "shape detect: 0.3641163076817632\n",
      "Epoch:  15\n",
      "2000/2000 - 2s - loss: 0.0329 - accuracy: 0.5832 - val_loss: 0.0539 - val_accuracy: 0.3805\n",
      "Flipped 2094.0 training samples (3.2718749999999996 %)\n",
      "Mean IOU: 0.40790069249276073\n",
      "Mean dist: 0.25492438826735364\n",
      "shape detect: 0.364709008759746\n",
      "Epoch:  16\n",
      "2000/2000 - 2s - loss: 0.0325 - accuracy: 0.5872 - val_loss: 0.0535 - val_accuracy: 0.3849\n",
      "Flipped 2137.0 training samples (3.3390625 %)\n",
      "Mean IOU: 0.4309506823157064\n",
      "Mean dist: 0.256384488037942\n",
      "shape detect: 0.3553985669092588\n",
      "Epoch:  17\n",
      "2000/2000 - 2s - loss: 0.0324 - accuracy: 0.5893 - val_loss: 0.0542 - val_accuracy: 0.4056\n",
      "Flipped 2223.0 training samples (3.4734374999999997 %)\n",
      "Mean IOU: 0.41979736499151926\n",
      "Mean dist: 0.24913767348906218\n",
      "shape detect: 0.3573247493596649\n",
      "Epoch:  18\n",
      "2000/2000 - 2s - loss: 0.0323 - accuracy: 0.5890 - val_loss: 0.0542 - val_accuracy: 0.4476\n",
      "Flipped 2076.0 training samples (3.24375 %)\n",
      "Mean IOU: 0.4183989117067664\n",
      "Mean dist: 0.2548739438175878\n",
      "shape detect: 0.3558383851186876\n",
      "Epoch:  19\n",
      "2000/2000 - 3s - loss: 0.0320 - accuracy: 0.5888 - val_loss: 0.0537 - val_accuracy: 0.4315\n",
      "Flipped 2153.0 training samples (3.3640625 %)\n",
      "Mean IOU: 0.4153742555274872\n",
      "Mean dist: 0.24998473569058152\n",
      "shape detect: 0.351883611349833\n",
      "Epoch:  20\n",
      "2000/2000 - 2s - loss: 0.0320 - accuracy: 0.5928 - val_loss: 0.0533 - val_accuracy: 0.4289\n",
      "Flipped 2130.0 training samples (3.328125 %)\n",
      "Mean IOU: 0.4122519019641093\n",
      "Mean dist: 0.24848367337967386\n",
      "shape detect: 0.35499549585889645\n",
      "Epoch:  21\n",
      "2000/2000 - 2s - loss: 0.0318 - accuracy: 0.5917 - val_loss: 0.0532 - val_accuracy: 0.4137\n",
      "Flipped 2134.0 training samples (3.3343749999999996 %)\n",
      "Mean IOU: 0.4207206623823635\n",
      "Mean dist: 0.2530464422074503\n",
      "shape detect: 0.34921256535860373\n",
      "Epoch:  22\n",
      "2000/2000 - 2s - loss: 0.0317 - accuracy: 0.5923 - val_loss: 0.0543 - val_accuracy: 0.3849\n",
      "Flipped 3199.0 training samples (4.9984375 %)\n",
      "Mean IOU: 0.4162171851838658\n",
      "Mean dist: 0.2677426486525756\n",
      "shape detect: 0.34756285147501054\n",
      "Epoch:  23\n",
      "2000/2000 - 2s - loss: 0.0315 - accuracy: 0.5940 - val_loss: 0.0538 - val_accuracy: 0.3862\n",
      "Flipped 2779.0 training samples (4.3421875 %)\n",
      "Mean IOU: 0.42038064734513675\n",
      "Mean dist: 0.2575471112423769\n",
      "shape detect: 0.34578211616703536\n",
      "Epoch:  24\n",
      "2000/2000 - 2s - loss: 0.0313 - accuracy: 0.5945 - val_loss: 0.0541 - val_accuracy: 0.3988\n",
      "Flipped 2214.0 training samples (3.459375 %)\n",
      "Mean IOU: 0.43657698475466866\n",
      "Mean dist: 0.2620795168524491\n",
      "shape detect: 0.3426811535097826\n",
      "Epoch:  25\n",
      "2000/2000 - 2s - loss: 0.0314 - accuracy: 0.5948 - val_loss: 0.0535 - val_accuracy: 0.4543\n",
      "Flipped 2057.0 training samples (3.2140625 %)\n",
      "Mean IOU: 0.42586023633446074\n",
      "Mean dist: 0.2519235013531491\n",
      "shape detect: 0.35657675918569387\n",
      "Epoch:  26\n",
      "2000/2000 - 2s - loss: 0.0313 - accuracy: 0.5964 - val_loss: 0.0541 - val_accuracy: 0.3765\n",
      "Flipped 2039.0 training samples (3.1859375 %)\n",
      "Mean IOU: 0.4081383371410908\n",
      "Mean dist: 0.24920803609469072\n",
      "shape detect: 0.344957156134573\n",
      "Epoch:  27\n",
      "2000/2000 - 2s - loss: 0.0312 - accuracy: 0.5939 - val_loss: 0.0537 - val_accuracy: 0.4076\n",
      "Flipped 2127.0 training samples (3.3234375 %)\n",
      "Mean IOU: 0.40694689094491626\n",
      "Mean dist: 0.25416789720301936\n",
      "shape detect: 0.3355390475529169\n",
      "Epoch:  28\n",
      "WARNING:tensorflow:Callbacks method `on_test_batch_begin` is slow compared to the batch time (batch time: 0.0001s vs `on_test_batch_begin` time: 0.0050s). Check your callbacks.\n",
      "2000/2000 - 2s - loss: 0.0311 - accuracy: 0.5973 - val_loss: 0.0542 - val_accuracy: 0.3867\n",
      "Flipped 2136.0 training samples (3.3375000000000004 %)\n",
      "Mean IOU: 0.4193437070655269\n",
      "Mean dist: 0.26559264782995334\n",
      "shape detect: 0.33136584261430985\n",
      "Epoch:  29\n",
      "2000/2000 - 2s - loss: 0.0311 - accuracy: 0.5986 - val_loss: 0.0546 - val_accuracy: 0.3849\n",
      "Flipped 2196.0 training samples (3.4312500000000004 %)\n",
      "Mean IOU: 0.4192779010287213\n",
      "Mean dist: 0.25478543205386683\n",
      "shape detect: 0.34196125142084094\n",
      "Epoch:  30\n",
      "2000/2000 - 3s - loss: 0.0310 - accuracy: 0.6008 - val_loss: 0.0540 - val_accuracy: 0.4008\n",
      "Flipped 2269.0 training samples (3.5453125 %)\n",
      "Mean IOU: 0.42675914091078765\n",
      "Mean dist: 0.25770266796418045\n",
      "shape detect: 0.33351836871561263\n",
      "Epoch:  31\n",
      "2000/2000 - 3s - loss: 0.0310 - accuracy: 0.6024 - val_loss: 0.0543 - val_accuracy: 0.4017\n",
      "Flipped 2202.0 training samples (3.440625 %)\n",
      "Mean IOU: 0.4180111858433427\n",
      "Mean dist: 0.25688432894713104\n",
      "shape detect: 0.3475522878896609\n",
      "Epoch:  32\n",
      "2000/2000 - 2s - loss: 0.0309 - accuracy: 0.6011 - val_loss: 0.0543 - val_accuracy: 0.4076\n"
     ]
    },
    {
     "name": "stdout",
     "output_type": "stream",
     "text": [
      "Flipped 2126.0 training samples (3.321875 %)\n",
      "Mean IOU: 0.4370697991751448\n",
      "Mean dist: 0.2626277893017217\n",
      "shape detect: 0.3376276326652768\n",
      "Epoch:  33\n",
      "2000/2000 - 2s - loss: 0.0307 - accuracy: 0.6035 - val_loss: 0.0534 - val_accuracy: 0.4024\n",
      "Flipped 2074.0 training samples (3.2406249999999996 %)\n",
      "Mean IOU: 0.4283428738352768\n",
      "Mean dist: 0.26324391417763365\n",
      "shape detect: 0.3438899391795547\n",
      "Epoch:  34\n",
      "2000/2000 - 3s - loss: 0.0308 - accuracy: 0.6030 - val_loss: 0.0538 - val_accuracy: 0.4136\n",
      "Flipped 1806.0 training samples (2.821875 %)\n",
      "Mean IOU: 0.4110494404504858\n",
      "Mean dist: 0.25676242607805666\n",
      "shape detect: 0.33959819138291547\n",
      "Epoch:  35\n",
      "2000/2000 - 2s - loss: 0.0307 - accuracy: 0.6059 - val_loss: 0.0529 - val_accuracy: 0.4641\n",
      "Flipped 1970.0 training samples (3.078125 %)\n",
      "Mean IOU: 0.42362544503981364\n",
      "Mean dist: 0.25759720762907856\n",
      "shape detect: 0.3434153393302606\n",
      "Epoch:  36\n",
      "2000/2000 - 2s - loss: 0.0307 - accuracy: 0.6042 - val_loss: 0.0546 - val_accuracy: 0.3879\n",
      "Flipped 2123.0 training samples (3.3171875 %)\n",
      "Mean IOU: 0.4059365278993918\n",
      "Mean dist: 0.25575878848269046\n",
      "shape detect: 0.330382250420027\n",
      "Epoch:  37\n",
      "2000/2000 - 3s - loss: 0.0306 - accuracy: 0.6033 - val_loss: 0.0543 - val_accuracy: 0.4147\n",
      "Flipped 2266.0 training samples (3.540625 %)\n",
      "Mean IOU: 0.42452895591706974\n",
      "Mean dist: 0.2600808320713031\n",
      "shape detect: 0.3240386722287313\n",
      "Epoch:  38\n",
      "2000/2000 - 2s - loss: 0.0304 - accuracy: 0.6057 - val_loss: 0.0542 - val_accuracy: 0.4083\n",
      "Flipped 2213.0 training samples (3.4578125 %)\n",
      "Mean IOU: 0.4210612898869708\n",
      "Mean dist: 0.257512392722711\n",
      "shape detect: 0.33059845548995037\n",
      "Epoch:  39\n",
      "2000/2000 - 2s - loss: 0.0304 - accuracy: 0.6062 - val_loss: 0.0535 - val_accuracy: 0.3930\n",
      "Flipped 2492.0 training samples (3.89375 %)\n",
      "Mean IOU: 0.4216659391045144\n",
      "Mean dist: 0.26100348074981017\n",
      "shape detect: 0.32197256300196436\n",
      "Epoch:  40\n",
      "2000/2000 - 2s - loss: 0.0306 - accuracy: 0.6049 - val_loss: 0.0540 - val_accuracy: 0.4323\n",
      "Flipped 2365.0 training samples (3.6953125000000004 %)\n",
      "Mean IOU: 0.41430195482303117\n",
      "Mean dist: 0.25854698700838835\n",
      "shape detect: 0.3403459669147223\n",
      "Epoch:  41\n",
      "2000/2000 - 2s - loss: 0.0304 - accuracy: 0.6053 - val_loss: 0.0538 - val_accuracy: 0.4047\n",
      "Flipped 2412.0 training samples (3.76875 %)\n",
      "Mean IOU: 0.4079646619198314\n",
      "Mean dist: 0.2504109558497537\n",
      "shape detect: 0.33406738050524903\n",
      "Epoch:  42\n",
      "2000/2000 - 2s - loss: 0.0304 - accuracy: 0.6065 - val_loss: 0.0538 - val_accuracy: 0.4529\n",
      "Flipped 2267.0 training samples (3.5421875 %)\n",
      "Mean IOU: 0.4312386825633708\n",
      "Mean dist: 0.255513352305103\n",
      "shape detect: 0.3241073817657382\n",
      "Epoch:  43\n",
      "2000/2000 - 2s - loss: 0.0304 - accuracy: 0.6040 - val_loss: 0.0530 - val_accuracy: 0.3917\n",
      "Flipped 2673.0 training samples (4.1765625 %)\n",
      "Mean IOU: 0.42409771877318475\n",
      "Mean dist: 0.2666690654008866\n",
      "shape detect: 0.3278385316416968\n",
      "Epoch:  44\n",
      "2000/2000 - 2s - loss: 0.0303 - accuracy: 0.6052 - val_loss: 0.0541 - val_accuracy: 0.4580\n",
      "Flipped 2449.0 training samples (3.8265624999999996 %)\n",
      "Mean IOU: 0.4231890795455657\n",
      "Mean dist: 0.25733986901973793\n",
      "shape detect: 0.3281274576504298\n",
      "Epoch:  45\n",
      "2000/2000 - 2s - loss: 0.0302 - accuracy: 0.6070 - val_loss: 0.0539 - val_accuracy: 0.3973\n",
      "Flipped 2291.0 training samples (3.5796875 %)\n",
      "Mean IOU: 0.4127399058351219\n",
      "Mean dist: 0.25697225025814807\n",
      "shape detect: 0.33175719546611115\n",
      "Epoch:  46\n",
      "2000/2000 - 2s - loss: 0.0303 - accuracy: 0.6071 - val_loss: 0.0538 - val_accuracy: 0.4194\n",
      "Flipped 2202.0 training samples (3.440625 %)\n",
      "Mean IOU: 0.4208907190630534\n",
      "Mean dist: 0.2516397802106132\n",
      "shape detect: 0.3340120471004239\n",
      "Epoch:  47\n",
      "2000/2000 - 2s - loss: 0.0303 - accuracy: 0.6093 - val_loss: 0.0533 - val_accuracy: 0.4110\n",
      "Flipped 2213.0 training samples (3.4578125 %)\n",
      "Mean IOU: 0.4087005178160941\n",
      "Mean dist: 0.2547320934975688\n",
      "shape detect: 0.32559919323184444\n",
      "Epoch:  48\n",
      "2000/2000 - 2s - loss: 0.0303 - accuracy: 0.6080 - val_loss: 0.0537 - val_accuracy: 0.4194\n",
      "Flipped 2081.0 training samples (3.2515625 %)\n",
      "Mean IOU: 0.40921803422157393\n",
      "Mean dist: 0.24797453461876034\n",
      "shape detect: 0.3309759479676816\n",
      "Epoch:  49\n",
      "2000/2000 - 2s - loss: 0.0302 - accuracy: 0.6094 - val_loss: 0.0541 - val_accuracy: 0.4047\n",
      "Flipped 1932.0 training samples (3.01875 %)\n",
      "Mean IOU: 0.40971478322648414\n",
      "Mean dist: 0.24301444144932574\n",
      "shape detect: 0.32578422664031653\n"
     ]
    }
   ],
   "source": [
    "# Flip bboxes during training.\n",
    "# Note: The validation loss is always quite big here because we don't flip the bounding boxes for the validation data. \n",
    "\n",
    "num_epochs = 50\n",
    "flipped_train_y = np.array(train_y)\n",
    "flipped = np.zeros((len(flipped_train_y), num_epochs))\n",
    "ious = np.zeros((len(flipped_train_y), num_epochs))\n",
    "dists = np.zeros((len(flipped_train_y), num_epochs))\n",
    "shape_accuracy = np.zeros((len(flipped_train_y), num_epochs))\n",
    "\n",
    "for epoch in range(num_epochs):\n",
    "    print ('Epoch: ', epoch)\n",
    "    model.fit(train_X, flipped_train_y, epochs = 1, validation_data = (test_X, test_y), verbose = 2,\n",
    "              callbacks = [ModelCheckpoint('Two_Rectangles_or_Triangles_model.h5',\n",
    "                                           monitor = 'val_loss',\n",
    "                                           save_best_only = True)])\n",
    "    pred_y = model.predict(train_X)\n",
    "\n",
    "    for i, (pred_bboxes, exp_bboxes) in enumerate(zip(pred_y, flipped_train_y)):\n",
    "        \n",
    "        flipped_exp_bboxes = np.concatenate([exp_bboxes[5:], exp_bboxes[:5]])\n",
    "        #if i < 3:\n",
    "        #    print(\"flipped_exp_bboxes = \\n\", flipped_exp_bboxes, \"\\nexp_bboxes = \\n\", exp_bboxes)\n",
    "        #    print(\"exp_bboxes\", exp_bboxes, \"\\n\", exp_bboxes[0:4])\n",
    "        #    print(\"flipped_exp_bboxes: \", flipped_exp_bboxes, \"\\n\", flipped_exp_bboxes[1:5])\n",
    "        mse = np.mean(np.square(pred_bboxes[0:4] - exp_bboxes[0:4]) + np.square(pred_bboxes[5:9] - exp_bboxes[5:9]))\n",
    "        mse_flipped = np.mean(np.square(pred_bboxes[0:4] - flipped_exp_bboxes[0:4]) + np.square(pred_bboxes[5:9] - flipped_exp_bboxes[5:9]))\n",
    "        \n",
    "        #if i < 3:\n",
    "        #    print(\"mse = \", mse, \"\\nmse_flipped = \", mse_flipped)\n",
    "        iou = IOU(pred_bboxes[:4], exp_bboxes[:4]) + IOU(pred_bboxes[5:], exp_bboxes[5:])\n",
    "        iou_flipped = IOU(pred_bboxes[:4], flipped_exp_bboxes[1:5]) + IOU(pred_bboxes[5:], flipped_exp_bboxes[6:])\n",
    "        \n",
    "        dist = distance(pred_bboxes[:4], exp_bboxes[:4]) + IOU(pred_bboxes[5:], exp_bboxes[5:])\n",
    "        dist_flipped = distance(pred_bboxes[:4], flipped_exp_bboxes[:4]) + IOU(pred_bboxes[5:], flipped_exp_bboxes[5:])\n",
    "        \n",
    "        #if i < 3:\n",
    "        #    print(\"pred_bboxes[:4] = \", pred_bboxes[:4], \"\\t[5:9] = \", pred_bboxes[5:9])\n",
    "        #    print(\"exp_bboxes[:4] = \", exp_bboxes[:4], \"\\t[5:9] = \", exp_bboxes[5:9])\n",
    "        #    print(\"flipped_exp_bboxes[:4] = \", flipped_exp_bboxes[:4], \" flipped_exp_bboxes[5:] = \", flipped_exp_bboxes[5:])\n",
    "        \n",
    "        shape = np.sqrt(np.square(pred_bboxes[4] - exp_bboxes[4]) + np.square(pred_bboxes[9] - exp_bboxes[9]))\n",
    "        shape_flipped = np.sqrt(np.square(pred_bboxes[4] - exp_bboxes[4]) + np.square(pred_bboxes[9] - flipped_exp_bboxes[9]))\n",
    "        \n",
    "        if mse_flipped < mse:  # using iou or dist here leads to similar results\n",
    "            flipped_train_y[i] = flipped_exp_bboxes\n",
    "            flipped[i, epoch] = 1\n",
    "            ious[i, epoch] = iou_flipped / 2.\n",
    "            dists[i, epoch] = dist_flipped / 2.\n",
    "            shape_accuracy[i, epoch] = shape_flipped\n",
    "        else:\n",
    "            ious[i, epoch] = iou / 2.\n",
    "            dists[i, epoch] = dist / 2.\n",
    "            shape_accuracy[i, epoch] = shape\n",
    "            \n",
    "        #print(\"------------------------------\")\n",
    "    print ('Flipped {} training samples ({} %)'.format(np.sum(flipped[:, epoch]), np.mean(flipped[:, epoch]) * 100.))\n",
    "    print ('Mean IOU: {}'.format(np.mean(ious[:, epoch])))\n",
    "    print ('Mean dist: {}'.format(np.mean(dists[:, epoch])))\n",
    "    print ('shape detect: {}'.format(np.mean(shape_accuracy[:, epoch])))"
   ]
  },
  {
   "cell_type": "code",
   "execution_count": 11,
   "metadata": {
    "ExecuteTime": {
     "end_time": "2016-07-06T23:55:00.367000",
     "start_time": "2016-07-06T23:54:57.699000"
    }
   },
   "outputs": [
    {
     "data": {
      "text/plain": [
       "Text(0, 0.5, 'Training sample')"
      ]
     },
     "execution_count": 11,
     "metadata": {},
     "output_type": "execute_result"
    },
    {
     "data": {
      "image/png": "[encoded data removed]",
      "text/plain": [
       "<Figure size 432x288 with 1 Axes>"
      ]
     },
     "metadata": {
      "needs_background": "light"
     },
     "output_type": "display_data"
    }
   ],
   "source": [
    "plt.pcolor(flipped[:, :10000], cmap='Greys')\n",
    "plt.xlabel('Epoch')\n",
    "plt.ylabel('Training sample')"
   ]
  },
  {
   "cell_type": "code",
   "execution_count": 13,
   "metadata": {
    "ExecuteTime": {
     "end_time": "2016-07-06T23:55:01.541000",
     "start_time": "2016-07-06T23:55:01.245000"
    }
   },
   "outputs": [
    {
     "data": {
      "text/plain": [
       "(0.0, 1.0)"
      ]
     },
     "execution_count": 13,
     "metadata": {},
     "output_type": "execute_result"
    },
    {
     "data": {
      "image/png": "[encoded data removed]",
      "text/plain": [
       "<Figure size 432x288 with 1 Axes>"
      ]
     },
     "metadata": {
      "needs_background": "light"
     },
     "output_type": "display_data"
    }
   ],
   "source": [
    "plt.plot(np.mean(ious, axis=0), label='Mean IOU')  # between predicted and assigned true bboxes\n",
    "plt.plot(np.mean(dists, axis=0), label='Mean distance')  # relative to image size\n",
    "plt.plot(np.mean(shape_accuracy, axis=0), label='Mean shape') \n",
    "plt.legend()\n",
    "plt.xlabel('Epoch')\n",
    "plt.ylim(0, 1)"
   ]
  },
  {
   "cell_type": "code",
   "execution_count": 14,
   "metadata": {
    "ExecuteTime": {
     "end_time": "2016-07-06T23:55:02.905000",
     "start_time": "2016-07-06T23:55:02.569000"
    }
   },
   "outputs": [
    {
     "data": {
      "text/plain": [
       "((16000, 2, 4), (16000, 2, 1))"
      ]
     },
     "execution_count": 14,
     "metadata": {},
     "output_type": "execute_result"
    }
   ],
   "source": [
    "pred_y = model.predict(test_X)\n",
    "pred_y = pred_y.reshape(len(pred_y), num_objects, -1)\n",
    "pred_bboxes = pred_y[..., :4] * img_size\n",
    "pred_shapes = pred_y[..., 4:5]\n",
    "pred_bboxes.shape, pred_shapes.shape"
   ]
  },
  {
   "cell_type": "code",
   "execution_count": 15,
   "metadata": {
    "ExecuteTime": {
     "end_time": "2016-07-06T23:57:24.479000",
     "start_time": "2016-07-06T23:57:22.606000"
    }
   },
   "outputs": [
    {
     "data": {
      "image/png": "[encoded data removed]",
      "text/plain": [
       "<Figure size 1152x576 with 4 Axes>"
      ]
     },
     "metadata": {
      "needs_background": "light"
     },
     "output_type": "display_data"
    }
   ],
   "source": [
    "plt.figure(figsize=(16, 8))\n",
    "for i_subplot in range(1, 5):\n",
    "    plt.subplot(1, 4, i_subplot)\n",
    "    i = np.random.randint(len(test_X))\n",
    "    plt.imshow(test_imgs[i].T, cmap='Greys', interpolation='none', origin='lower', extent=[0, img_size, 0, img_size])\n",
    "    for pred_bbox, exp_bbox, pred_shape in zip(pred_bboxes[i], test_bboxes[i], pred_shapes[i]):\n",
    "        plt.gca().add_patch(matplotlib.patches.Rectangle((pred_bbox[0], pred_bbox[1]), pred_bbox[2], pred_bbox[3], ec='r' if pred_shape[0] <= 0.5 else 'y', fc='none'))\n",
    "        # TODO: Calculate max IOU with all expected bounding boxes.\n",
    "#         plt.annotate('IOU: {:.2f}'.format(IOU(pred_bbox, exp_bbox)), (pred_bbox[0], pred_bbox[1]+pred_bbox[3]+0.4), color='r')\n",
    "\n",
    "# plt.savefig('plots/bw-two-rectangles-or-triangles4.png', dpi=300)"
   ]
  },
  {
   "cell_type": "code",
   "execution_count": null,
   "metadata": {},
   "outputs": [],
   "source": []
  }
 ],
 "metadata": {
  "kernelspec": {
   "display_name": "Python 3",
   "language": "python",
   "name": "python3"
  },
  "language_info": {
   "codemirror_mode": {
    "name": "ipython",
    "version": 3
   },
   "file_extension": ".py",
   "mimetype": "text/x-python",
   "name": "python",
   "nbconvert_exporter": "python",
   "pygments_lexer": "ipython3",
   "version": "3.8.3"
  },
  "toc": {
   "nav_menu": {},
   "number_sections": true,
   "sideBar": true,
   "skip_h1_title": false,
   "title_cell": "Table of Contents",
   "title_sidebar": "Contents",
   "toc_cell": false,
   "toc_position": {},
   "toc_section_display": true,
   "toc_window_display": false
  }
 },
 "nbformat": 4,
 "nbformat_minor": 1
}
