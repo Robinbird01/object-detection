{
 "cells": [
  {
   "cell_type": "code",
   "execution_count": 1,
   "metadata": {},
   "outputs": [],
   "source": [
    "import numpy as np\n",
    "import matplotlib.pyplot as plt\n",
    "import matplotlib\n",
    "%matplotlib inline"
   ]
  },
  {
   "cell_type": "code",
   "execution_count": 2,
   "metadata": {},
   "outputs": [
    {
     "data": {
      "text/plain": [
       "((50000, 8, 8), (50000, 1, 4))"
      ]
     },
     "execution_count": 2,
     "metadata": {},
     "output_type": "execute_result"
    }
   ],
   "source": [
    "# Create images with random rectangles and bounding boxes. \n",
    "num_imgs = 50000\n",
    "\n",
    "img_size = 8\n",
    "min_object_size = 1\n",
    "max_object_size = 4\n",
    "num_objects = 1\n",
    "\n",
    "bboxes = np.zeros((num_imgs, num_objects, 4))\n",
    "imgs = np.zeros((num_imgs, img_size, img_size))  # set background to 0\n",
    "\n",
    "for i_img in range(num_imgs):\n",
    "    for i_object in range(num_objects):\n",
    "        w, h = np.random.randint(min_object_size, max_object_size, size=2)\n",
    "        x = np.random.randint(0, img_size - w)\n",
    "        y = np.random.randint(0, img_size - h)\n",
    "        imgs[i_img, x:x+w, y:y+h] = 1.  # set rectangle to 1\n",
    "        bboxes[i_img, i_object] = [x, y, w, h]\n",
    "        \n",
    "imgs.shape, bboxes.shape"
   ]
  },
  {
   "cell_type": "code",
   "execution_count": 3,
   "metadata": {},
   "outputs": [
    {
     "data": {
      "image/png": "[encoded data removed]",
      "text/plain": [
       "<Figure size 432x288 with 1 Axes>"
      ]
     },
     "metadata": {
      "needs_background": "light"
     },
     "output_type": "display_data"
    }
   ],
   "source": [
    "i = 0\n",
    "plt.imshow(imgs[i].T, cmap='Greys', interpolation='none', origin='lower', extent=[0, img_size, 0, img_size])\n",
    "for bbox in bboxes[i]:\n",
    "    plt.gca().add_patch(matplotlib.patches.Rectangle((bbox[0], bbox[1]), bbox[2], bbox[3], ec='r', fc='none'))"
   ]
  },
  {
   "cell_type": "code",
   "execution_count": 4,
   "metadata": {},
   "outputs": [
    {
     "data": {
      "text/plain": [
       "((50000, 64), 9.727774141765621e-17, 0.9999999999999997)"
      ]
     },
     "execution_count": 4,
     "metadata": {},
     "output_type": "execute_result"
    }
   ],
   "source": [
    "# Reshape and normalize the image data to mean 0 and std 1. \n",
    "X = (imgs.reshape(num_imgs, -1) - np.mean(imgs)) / np.std(imgs)\n",
    "X.shape, np.mean(X), np.std(X)"
   ]
  },
  {
   "cell_type": "code",
   "execution_count": 5,
   "metadata": {},
   "outputs": [
    {
     "data": {
      "text/plain": [
       "((50000, 4), 0.281128125, 0.17509647114943344)"
      ]
     },
     "execution_count": 5,
     "metadata": {},
     "output_type": "execute_result"
    }
   ],
   "source": [
    "# Normalize x, y, w, h by img_size, so that all values are between 0 and 1.\n",
    "# Important: Do not shift to negative values (e.g. by setting to mean 0), because the IOU calculation needs positive w and h.\n",
    "y = bboxes.reshape(num_imgs, -1) / img_size\n",
    "y.shape, np.mean(y), np.std(y)"
   ]
  },
  {
   "cell_type": "code",
   "execution_count": 6,
   "metadata": {},
   "outputs": [],
   "source": [
    "# Split training and test.\n",
    "i = int(0.8 * num_imgs)\n",
    "train_X = X[:i]\n",
    "test_X = X[i:]\n",
    "train_y = y[:i]\n",
    "test_y = y[i:]\n",
    "test_imgs = imgs[i:]\n",
    "test_bboxes = bboxes[i:]"
   ]
  },
  {
   "cell_type": "code",
   "execution_count": 7,
   "metadata": {},
   "outputs": [],
   "source": [
    "# Build the model.\n",
    "from keras.models import Sequential\n",
    "from keras.layers import Dense, Activation, Dropout\n",
    "from keras.optimizers import SGD\n",
    "model = Sequential([\n",
    "        Dense(200, input_dim=X.shape[-1]), \n",
    "        Activation('relu'), \n",
    "        Dropout(0.2), \n",
    "        Dense(y.shape[-1])\n",
    "    ])\n",
    "model.compile(loss = 'mse', optimizer = 'adam', metrics = ['accuracy'])"
   ]
  },
  {
   "cell_type": "code",
   "execution_count": 8,
   "metadata": {},
   "outputs": [
    {
     "name": "stdout",
     "output_type": "stream",
     "text": [
      "Epoch 1/30\n",
      "WARNING:tensorflow:Callbacks method `on_test_batch_end` is slow compared to the batch time (batch time: 0.0000s vs `on_test_batch_end` time: 0.0045s). Check your callbacks.\n",
      "1250/1250 - 2s - loss: 0.0280 - accuracy: 0.7060 - val_loss: 8.4972e-04 - val_accuracy: 0.8356\n",
      "Epoch 2/30\n",
      "1250/1250 - 2s - loss: 0.0024 - accuracy: 0.8433 - val_loss: 2.9429e-04 - val_accuracy: 0.8859\n",
      "Epoch 3/30\n",
      "1250/1250 - 2s - loss: 0.0014 - accuracy: 0.8538 - val_loss: 1.8250e-04 - val_accuracy: 0.8882\n",
      "Epoch 4/30\n",
      "1250/1250 - 2s - loss: 0.0011 - accuracy: 0.8534 - val_loss: 1.5630e-04 - val_accuracy: 0.8703\n",
      "Epoch 5/30\n",
      "1250/1250 - 2s - loss: 9.5231e-04 - accuracy: 0.8519 - val_loss: 1.5811e-04 - val_accuracy: 0.8453\n",
      "Epoch 6/30\n",
      "1250/1250 - 1s - loss: 8.7407e-04 - accuracy: 0.8528 - val_loss: 1.3594e-04 - val_accuracy: 0.8455\n",
      "Epoch 7/30\n",
      "1250/1250 - 1s - loss: 8.2659e-04 - accuracy: 0.8501 - val_loss: 1.5733e-04 - val_accuracy: 0.8384\n",
      "Epoch 8/30\n",
      "1250/1250 - 2s - loss: 7.8225e-04 - accuracy: 0.8512 - val_loss: 1.6959e-04 - val_accuracy: 0.8164\n",
      "Epoch 9/30\n",
      "1250/1250 - 1s - loss: 7.3610e-04 - accuracy: 0.8492 - val_loss: 1.0737e-04 - val_accuracy: 0.8614\n",
      "Epoch 10/30\n",
      "1250/1250 - 1s - loss: 7.1372e-04 - accuracy: 0.8489 - val_loss: 1.3390e-04 - val_accuracy: 0.8247\n",
      "Epoch 11/30\n",
      "1250/1250 - 1s - loss: 6.9786e-04 - accuracy: 0.8493 - val_loss: 1.2267e-04 - val_accuracy: 0.8158\n",
      "Epoch 12/30\n",
      "1250/1250 - 1s - loss: 6.7496e-04 - accuracy: 0.8490 - val_loss: 1.2909e-04 - val_accuracy: 0.8438\n",
      "Epoch 13/30\n",
      "1250/1250 - 1s - loss: 6.6372e-04 - accuracy: 0.8479 - val_loss: 1.5465e-04 - val_accuracy: 0.8343\n",
      "Epoch 14/30\n",
      "1250/1250 - 1s - loss: 6.5692e-04 - accuracy: 0.8499 - val_loss: 1.5644e-04 - val_accuracy: 0.8849\n",
      "Epoch 15/30\n",
      "1250/1250 - 1s - loss: 6.3852e-04 - accuracy: 0.8493 - val_loss: 1.4697e-04 - val_accuracy: 0.8607\n",
      "Epoch 16/30\n",
      "1250/1250 - 1s - loss: 6.3582e-04 - accuracy: 0.8489 - val_loss: 1.4815e-04 - val_accuracy: 0.8477\n",
      "Epoch 17/30\n",
      "1250/1250 - 1s - loss: 6.2793e-04 - accuracy: 0.8486 - val_loss: 1.3196e-04 - val_accuracy: 0.9076\n",
      "Epoch 18/30\n",
      "1250/1250 - 1s - loss: 6.2111e-04 - accuracy: 0.8480 - val_loss: 1.6983e-04 - val_accuracy: 0.8425\n",
      "Epoch 19/30\n",
      "1250/1250 - 1s - loss: 6.2271e-04 - accuracy: 0.8469 - val_loss: 1.5305e-04 - val_accuracy: 0.8561\n",
      "Epoch 20/30\n",
      "1250/1250 - 1s - loss: 6.1628e-04 - accuracy: 0.8462 - val_loss: 1.6380e-04 - val_accuracy: 0.8364\n",
      "Epoch 21/30\n",
      "1250/1250 - 1s - loss: 6.1935e-04 - accuracy: 0.8463 - val_loss: 1.2029e-04 - val_accuracy: 0.8553\n",
      "Epoch 22/30\n",
      "1250/1250 - 1s - loss: 6.1480e-04 - accuracy: 0.8476 - val_loss: 1.1617e-04 - val_accuracy: 0.8593\n",
      "Epoch 23/30\n",
      "1250/1250 - 1s - loss: 6.1037e-04 - accuracy: 0.8479 - val_loss: 1.3966e-04 - val_accuracy: 0.7975\n",
      "Epoch 24/30\n",
      "1250/1250 - 1s - loss: 6.0935e-04 - accuracy: 0.8466 - val_loss: 1.3787e-04 - val_accuracy: 0.9016\n",
      "Epoch 25/30\n",
      "1250/1250 - 1s - loss: 6.0280e-04 - accuracy: 0.8487 - val_loss: 1.7510e-04 - val_accuracy: 0.8601\n",
      "Epoch 26/30\n",
      "1250/1250 - 1s - loss: 6.0394e-04 - accuracy: 0.8471 - val_loss: 1.8966e-04 - val_accuracy: 0.8973\n",
      "Epoch 27/30\n",
      "1250/1250 - 1s - loss: 6.0399e-04 - accuracy: 0.8475 - val_loss: 1.3776e-04 - val_accuracy: 0.8910\n",
      "Epoch 28/30\n",
      "1250/1250 - 1s - loss: 6.0205e-04 - accuracy: 0.8480 - val_loss: 1.3635e-04 - val_accuracy: 0.8197\n",
      "Epoch 29/30\n",
      "1250/1250 - 1s - loss: 6.0709e-04 - accuracy: 0.8500 - val_loss: 1.4506e-04 - val_accuracy: 0.8151\n",
      "Epoch 30/30\n",
      "1250/1250 - 1s - loss: 5.9851e-04 - accuracy: 0.8490 - val_loss: 1.1625e-04 - val_accuracy: 0.8552\n"
     ]
    },
    {
     "data": {
      "text/plain": [
       "<tensorflow.python.keras.callbacks.History at 0x1cb472f7850>"
      ]
     },
     "execution_count": 8,
     "metadata": {},
     "output_type": "execute_result"
    }
   ],
   "source": [
    "# Train.\n",
    "model.fit(train_X, train_y, epochs= 30, validation_data=(test_X, test_y), verbose=2)"
   ]
  },
  {
   "cell_type": "code",
   "execution_count": 9,
   "metadata": {},
   "outputs": [
    {
     "data": {
      "text/plain": [
       "(10000, 1, 4)"
      ]
     },
     "execution_count": 9,
     "metadata": {},
     "output_type": "execute_result"
    }
   ],
   "source": [
    "# Predict bounding boxes on the test images.\n",
    "pred_y = model.predict(test_X)\n",
    "pred_bboxes = pred_y * img_size\n",
    "pred_bboxes = pred_bboxes.reshape(len(pred_bboxes), num_objects, -1)\n",
    "pred_bboxes.shape"
   ]
  },
  {
   "cell_type": "code",
   "execution_count": 10,
   "metadata": {},
   "outputs": [],
   "source": [
    "def IOU(bbox1, bbox2):\n",
    "    '''Calculate overlap between two bounding boxes [x, y, w, h] as the area of intersection over the area of unity'''\n",
    "    x1, y1, w1, h1 = bbox1[0], bbox1[1], bbox1[2], bbox1[3]\n",
    "    x2, y2, w2, h2 = bbox2[0], bbox2[1], bbox2[2], bbox2[3]\n",
    "\n",
    "    w_I = min(x1 + w1, x2 + w2) - max(x1, x2)\n",
    "    h_I = min(y1 + h1, y2 + h2) - max(y1, y2)\n",
    "    if w_I <= 0 or h_I <= 0:  # no overlap\n",
    "        return 0.\n",
    "    I = w_I * h_I\n",
    "\n",
    "    U = w1 * h1 + w2 * h2 - I\n",
    "\n",
    "    return I / U"
   ]
  },
  {
   "cell_type": "code",
   "execution_count": 11,
   "metadata": {},
   "outputs": [
    {
     "data": {
      "image/png": "[encoded data removed]",
      "text/plain": [
       "<Figure size 864x216 with 4 Axes>"
      ]
     },
     "metadata": {
      "needs_background": "light"
     },
     "output_type": "display_data"
    }
   ],
   "source": [
    "# Show a few images and predicted bounding boxes from the test dataset. \n",
    "plt.figure(figsize=(12, 3))\n",
    "for i_subplot in range(1, 5):\n",
    "    plt.subplot(1, 4, i_subplot)\n",
    "    i = np.random.randint(len(test_imgs))\n",
    "    plt.imshow(test_imgs[i].T, cmap='Greys', interpolation='none', origin='lower', extent=[0, img_size, 0, img_size])\n",
    "    for pred_bbox, exp_bbox in zip(pred_bboxes[i], test_bboxes[i]):\n",
    "        plt.gca().add_patch(matplotlib.patches.Rectangle((pred_bbox[0], pred_bbox[1]), pred_bbox[2], pred_bbox[3], ec='r', fc='none'))\n",
    "        plt.annotate('IOU: {:.2f}'.format(IOU(pred_bbox, exp_bbox)), (pred_bbox[0], pred_bbox[1]+pred_bbox[3]+0.2), color='r')\n",
    "        \n",
    "# plt.savefig('plots/bw-single-rectangle_prediction.png', dpi=300)"
   ]
  },
  {
   "cell_type": "code",
   "execution_count": 12,
   "metadata": {},
   "outputs": [
    {
     "data": {
      "text/plain": [
       "0.8433128087544305"
      ]
     },
     "execution_count": 12,
     "metadata": {},
     "output_type": "execute_result"
    }
   ],
   "source": [
    "# Calculate the mean IOU (overlap) between the predicted and expected bounding boxes on the test dataset. \n",
    "summed_IOU = 0.\n",
    "for pred_bbox, test_bbox in zip(pred_bboxes.reshape(-1, 4), test_bboxes.reshape(-1, 4)):\n",
    "    summed_IOU += IOU(pred_bbox, test_bbox)\n",
    "mean_IOU = summed_IOU / len(pred_bboxes)\n",
    "mean_IOU"
   ]
  },
  {
   "cell_type": "code",
   "execution_count": null,
   "metadata": {},
   "outputs": [],
   "source": []
  }
 ],
 "metadata": {
  "kernelspec": {
   "display_name": "Python 3",
   "language": "python",
   "name": "python3"
  },
  "language_info": {
   "codemirror_mode": {
    "name": "ipython",
    "version": 3
   },
   "file_extension": ".py",
   "mimetype": "text/x-python",
   "name": "python",
   "nbconvert_exporter": "python",
   "pygments_lexer": "ipython3",
   "version": "3.8.3"
  }
 },
 "nbformat": 4,
 "nbformat_minor": 4
}
