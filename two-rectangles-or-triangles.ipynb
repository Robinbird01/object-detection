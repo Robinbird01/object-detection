{
 "cells": [
  {
   "cell_type": "code",
   "execution_count": 1,
   "metadata": {
    "ExecuteTime": {
     "end_time": "2016-07-06T23:25:52.986000",
     "start_time": "2016-07-06T23:25:52.454000"
    }
   },
   "outputs": [],
   "source": [
    "import numpy as np\n",
    "import matplotlib.pyplot as plt\n",
    "import matplotlib\n",
    "%matplotlib inline"
   ]
  },
  {
   "cell_type": "code",
   "execution_count": 2,
   "metadata": {
    "ExecuteTime": {
     "end_time": "2016-07-06T23:25:58.288000",
     "start_time": "2016-07-06T23:25:54.225000"
    }
   },
   "outputs": [
    {
     "data": {
      "text/plain": [
       "((80000, 16, 16), (80000, 2, 4))"
      ]
     },
     "execution_count": 2,
     "metadata": {},
     "output_type": "execute_result"
    }
   ],
   "source": [
    "num_imgs = 80000\n",
    "\n",
    "img_size = 16\n",
    "min_rect_size = 3\n",
    "max_rect_size = 8\n",
    "num_objects = 2\n",
    "\n",
    "bboxes = np.zeros((num_imgs, num_objects, 4))\n",
    "imgs = np.zeros((num_imgs, img_size, img_size))\n",
    "shapes = np.zeros((num_imgs, num_objects, 1))\n",
    "\n",
    "for i_img in range(num_imgs):\n",
    "    for i_object in range(num_objects):\n",
    "        if np.random.choice([True, False]):\n",
    "            width, height = np.random.randint(min_rect_size, max_rect_size, size=2)\n",
    "            x = np.random.randint(0, img_size - width)\n",
    "            y = np.random.randint(0, img_size - height)\n",
    "            imgs[i_img, x:x+width, y:y+height] = 1.  #???\n",
    "            bboxes[i_img, i_object] = [x, y, width, height]\n",
    "            shapes[i_img, i_object] = [0]\n",
    "        else:\n",
    "            size = np.random.randint(min_rect_size, max_rect_size)\n",
    "            x, y = np.random.randint(0, img_size - size, size=2)\n",
    "            mask = np.tril_indices(size)  #provide triangle...\n",
    "            \n",
    "            \n",
    "            imgs[i_img, x + mask[0], y + mask[1]] = 1.\n",
    "            bboxes[i_img, i_object] = [x, y, size, size]\n",
    "            shapes[i_img, i_object] = [1]\n",
    "        \n",
    "imgs.shape, bboxes.shape"
   ]
  },
  {
   "cell_type": "code",
   "execution_count": 3,
   "metadata": {
    "ExecuteTime": {
     "end_time": "2016-07-06T23:25:58.544000",
     "start_time": "2016-07-06T23:25:58.291000"
    }
   },
   "outputs": [
    {
     "data": {
      "image/png": "[encoded data removed]",
      "text/plain": [
       "<Figure size 432x288 with 1 Axes>"
      ]
     },
     "metadata": {
      "needs_background": "light"
     },
     "output_type": "display_data"
    }
   ],
   "source": [
    "i = 0\n",
    "# TODO: Why does the array have to be transposed?\n",
    "plt.imshow(imgs[i].T, cmap='Greys', interpolation='none', origin='lower', extent=[0, img_size, 0, img_size])\n",
    "for bbox, shape in zip(bboxes[i], shapes[i]):\n",
    "    plt.gca().add_patch(matplotlib.patches.Rectangle((bbox[0], bbox[1]), bbox[2], bbox[3], lw = 2, ec='r' if shape[0] == 0 else 'y', fc='none'))"
   ]
  },
  {
   "cell_type": "code",
   "execution_count": 4,
   "metadata": {
    "ExecuteTime": {
     "end_time": "2016-07-06T23:25:59.719000",
     "start_time": "2016-07-06T23:25:59.203000"
    }
   },
   "outputs": [
    {
     "data": {
      "text/plain": [
       "((80000, 256), -1.0463574451335944e-16, 0.9999999999999999)"
      ]
     },
     "execution_count": 4,
     "metadata": {},
     "output_type": "execute_result"
    }
   ],
   "source": [
    "X = (imgs.reshape(num_imgs, -1) - np.mean(imgs)) / np.std(imgs)\n",
    "X.shape, np.mean(X), np.std(X)"
   ]
  },
  {
   "cell_type": "code",
   "execution_count": 5,
   "metadata": {
    "ExecuteTime": {
     "end_time": "2016-07-06T23:26:00.476000",
     "start_time": "2016-07-06T23:26:00.464000"
    }
   },
   "outputs": [
    {
     "name": "stdout",
     "output_type": "stream",
     "text": [
      "[[0.125  0.5    0.1875 0.1875 1.     0.     0.25   0.3125 0.3125 0.    ]\n",
      " [0.25   0.4375 0.375  0.25   0.     0.4375 0.5625 0.4375 0.375  0.    ]\n",
      " [0.5    0.0625 0.3125 0.3125 1.     0.375  0.125  0.4375 0.4375 1.    ]]\n"
     ]
    }
   ],
   "source": [
    "# TODO: We use binary classification here - for multiple classes, convert classes to one-hot vectors.\n",
    "y = np.concatenate([bboxes / img_size, shapes], axis = -1).reshape(num_imgs, -1)\n",
    "print(y[:3])"
   ]
  },
  {
   "cell_type": "code",
   "execution_count": 6,
   "metadata": {
    "ExecuteTime": {
     "end_time": "2016-07-06T23:26:01.233000",
     "start_time": "2016-07-06T23:26:01.226000"
    }
   },
   "outputs": [
    {
     "name": "stdout",
     "output_type": "stream",
     "text": [
      "[[0.125  0.5    0.1875 0.1875 1.     0.     0.25   0.3125 0.3125 0.    ]\n",
      " [0.25   0.4375 0.375  0.25   0.     0.4375 0.5625 0.4375 0.375  0.    ]\n",
      " [0.5    0.0625 0.3125 0.3125 1.     0.375  0.125  0.4375 0.4375 1.    ]]\n"
     ]
    }
   ],
   "source": [
    "i = int(0.8 * num_imgs)\n",
    "train_X = X[:i]\n",
    "test_X = X[i:]\n",
    "train_y = y[:i]\n",
    "test_y = y[i:]\n",
    "test_imgs = imgs[i:]\n",
    "test_bboxes = bboxes[i:]\n",
    "print(train_y[:3])"
   ]
  },
  {
   "cell_type": "code",
   "execution_count": 7,
   "metadata": {
    "ExecuteTime": {
     "end_time": "2016-07-06T23:26:06.005000",
     "start_time": "2016-07-06T23:26:02.162000"
    },
    "scrolled": true
   },
   "outputs": [
    {
     "name": "stdout",
     "output_type": "stream",
     "text": [
      "Model: \"sequential\"\n",
      "_________________________________________________________________\n",
      "Layer (type)                 Output Shape              Param #   \n",
      "=================================================================\n",
      "dense (Dense)                (None, 256)               65792     \n",
      "_________________________________________________________________\n",
      "activation (Activation)      (None, 256)               0         \n",
      "_________________________________________________________________\n",
      "dropout (Dropout)            (None, 256)               0         \n",
      "_________________________________________________________________\n",
      "dense_1 (Dense)              (None, 10)                2570      \n",
      "=================================================================\n",
      "Total params: 68,362\n",
      "Trainable params: 68,362\n",
      "Non-trainable params: 0\n",
      "_________________________________________________________________\n"
     ]
    }
   ],
   "source": [
    "from keras.models import Sequential\n",
    "from keras.layers import Dense, Activation, Dropout\n",
    "from keras.optimizers import SGD\n",
    "from keras.callbacks import ModelCheckpoint\n",
    "from keras.models import load_model\n",
    "model = Sequential([\n",
    "        Dense(256, input_dim = X.shape[-1]), \n",
    "        Activation('relu'), \n",
    "        Dropout(0.6), \n",
    "        Dense(y.shape[-1])\n",
    "    ])\n",
    "#model.compile('adadelta', 'mse')#by author\n",
    "model.compile(loss = 'mse', optimizer = 'adam', metrics = ['accuracy'])#by Clio\n",
    "model.summary()"
   ]
  },
  {
   "cell_type": "code",
   "execution_count": 8,
   "metadata": {},
   "outputs": [],
   "source": [
    "def IOU(bbox1, bbox2):\n",
    "    '''Calculate overlap between two bounding boxes [x, y, w, h] as the area of intersection over the area of unity'''\n",
    "    x1, y1, w1, h1 = bbox1[0], bbox1[1], bbox1[2], bbox1[3]  # TODO: Check if its more performant if tensor elements are accessed directly below.\n",
    "    x2, y2, w2, h2 = bbox2[0], bbox2[1], bbox2[2], bbox2[3]\n",
    "\n",
    "    w_I = min(x1 + w1, x2 + w2) - max(x1, x2)\n",
    "    h_I = min(y1 + h1, y2 + h2) - max(y1, y2)\n",
    "    w_I = max(w_I, 0)  # set w_I and h_I zero if there is no intersection\n",
    "    h_I = max(h_I, 0)\n",
    "    I = w_I * h_I\n",
    "\n",
    "    U = w1 * h1 + w2 * h2 - I\n",
    "\n",
    "    return I / U"
   ]
  },
  {
   "cell_type": "code",
   "execution_count": 9,
   "metadata": {},
   "outputs": [],
   "source": [
    "def distance(bbox1, bbox2):\n",
    "    return np.sqrt(np.sum(np.square(bbox1[:2] - bbox2[:2])))"
   ]
  },
  {
   "cell_type": "code",
   "execution_count": 10,
   "metadata": {
    "ExecuteTime": {
     "end_time": "2016-07-06T23:32:54.867000",
     "start_time": "2016-07-06T23:26:06.009000"
    },
    "code_folding": [
     2,
     17
    ]
   },
   "outputs": [
    {
     "name": "stdout",
     "output_type": "stream",
     "text": [
      "Epoch:  0\n",
      "2000/2000 - 3s - loss: 0.0965 - accuracy: 0.3241 - val_loss: 0.0527 - val_accuracy: 0.3474\n",
      "Flipped 31613.0 training samples (49.3953125 %)\n",
      "Mean IOU: 0.2248894992484082\n",
      "Mean dist: 0.2262254113309263\n",
      "shape detect: 0.588300162740973\n",
      "Epoch:  1\n",
      "2000/2000 - 2s - loss: 0.0539 - accuracy: 0.3512 - val_loss: 0.0499 - val_accuracy: 0.3234\n",
      "Flipped 17098.0 training samples (26.715625 %)\n",
      "Mean IOU: 0.28412994393441543\n",
      "Mean dist: 0.24815906903581048\n",
      "shape detect: 0.5427661003909017\n",
      "Epoch:  2\n",
      "2000/2000 - 2s - loss: 0.0457 - accuracy: 0.4606 - val_loss: 0.0522 - val_accuracy: 0.3636\n",
      "Flipped 6321.0 training samples (9.8765625 %)\n",
      "Mean IOU: 0.35285840798007245\n",
      "Mean dist: 0.2665612230621991\n",
      "shape detect: 0.4776783057429151\n",
      "Epoch:  3\n",
      "2000/2000 - 3s - loss: 0.0405 - accuracy: 0.5194 - val_loss: 0.0529 - val_accuracy: 0.3910\n",
      "Flipped 3246.0 training samples (5.071875 %)\n",
      "Mean IOU: 0.3891645862527193\n",
      "Mean dist: 0.26879023076012276\n",
      "shape detect: 0.4345299512030085\n",
      "Epoch:  4\n",
      "2000/2000 - 2s - loss: 0.0377 - accuracy: 0.5476 - val_loss: 0.0548 - val_accuracy: 0.3814\n",
      "Flipped 2470.0 training samples (3.8593750000000004 %)\n",
      "Mean IOU: 0.4094219799496399\n",
      "Mean dist: 0.28044853676779785\n",
      "shape detect: 0.4178930602985598\n",
      "Epoch:  5\n",
      "2000/2000 - 2s - loss: 0.0361 - accuracy: 0.5622 - val_loss: 0.0543 - val_accuracy: 0.3971\n",
      "Flipped 2515.0 training samples (3.9296875 %)\n",
      "Mean IOU: 0.41581421373637095\n",
      "Mean dist: 0.2880082944282358\n",
      "shape detect: 0.3885996075257415\n",
      "Epoch:  6\n",
      "2000/2000 - 3s - loss: 0.0352 - accuracy: 0.5711 - val_loss: 0.0542 - val_accuracy: 0.3908\n",
      "Flipped 2328.0 training samples (3.6374999999999997 %)\n",
      "Mean IOU: 0.41795561054816227\n",
      "Mean dist: 0.286107201478545\n",
      "shape detect: 0.38832094270031475\n",
      "Epoch:  7\n",
      "2000/2000 - 3s - loss: 0.0342 - accuracy: 0.5804 - val_loss: 0.0552 - val_accuracy: 0.3711\n",
      "Flipped 2147.0 training samples (3.3546875 %)\n",
      "Mean IOU: 0.4106811473846221\n",
      "Mean dist: 0.28115890049928877\n",
      "shape detect: 0.3777460445144502\n",
      "Epoch:  8\n",
      "2000/2000 - 2s - loss: 0.0337 - accuracy: 0.5858 - val_loss: 0.0548 - val_accuracy: 0.3705\n",
      "Flipped 2252.0 training samples (3.51875 %)\n",
      "Mean IOU: 0.4143435964045839\n",
      "Mean dist: 0.27984943591876854\n",
      "shape detect: 0.3723798066385523\n",
      "Epoch:  9\n",
      "2000/2000 - 3s - loss: 0.0332 - accuracy: 0.5894 - val_loss: 0.0536 - val_accuracy: 0.3894\n",
      "Flipped 2190.0 training samples (3.421875 %)\n",
      "Mean IOU: 0.4277759888135531\n",
      "Mean dist: 0.2838278184411396\n",
      "shape detect: 0.3662194353663647\n",
      "Epoch:  10\n",
      "WARNING:tensorflow:Callbacks method `on_train_batch_end` is slow compared to the batch time (batch time: 0.0000s vs `on_train_batch_end` time: 0.0020s). Check your callbacks.\n",
      "2000/2000 - 2s - loss: 0.0328 - accuracy: 0.5954 - val_loss: 0.0544 - val_accuracy: 0.4087\n",
      "Flipped 1990.0 training samples (3.109375 %)\n",
      "Mean IOU: 0.42621823070186143\n",
      "Mean dist: 0.2843031375171168\n",
      "shape detect: 0.361483489589878\n",
      "Epoch:  11\n",
      "2000/2000 - 2s - loss: 0.0325 - accuracy: 0.6017 - val_loss: 0.0548 - val_accuracy: 0.4078\n",
      "Flipped 2381.0 training samples (3.7203124999999995 %)\n",
      "Mean IOU: 0.4334618549704975\n",
      "Mean dist: 0.28196608665048317\n",
      "shape detect: 0.36176058402864\n",
      "Epoch:  12\n",
      "2000/2000 - 2s - loss: 0.0321 - accuracy: 0.6046 - val_loss: 0.0546 - val_accuracy: 0.3890\n",
      "Flipped 2196.0 training samples (3.4312500000000004 %)\n",
      "Mean IOU: 0.43323480487327265\n",
      "Mean dist: 0.28106314786593517\n",
      "shape detect: 0.34544170060899854\n",
      "Epoch:  13\n",
      "2000/2000 - 2s - loss: 0.0318 - accuracy: 0.6086 - val_loss: 0.0542 - val_accuracy: 0.4056\n",
      "Flipped 2566.0 training samples (4.0093749999999995 %)\n",
      "Mean IOU: 0.42199262044403224\n",
      "Mean dist: 0.27875069406284975\n",
      "shape detect: 0.34858835406377414\n",
      "Epoch:  14\n",
      "2000/2000 - 2s - loss: 0.0317 - accuracy: 0.6097 - val_loss: 0.0547 - val_accuracy: 0.4257\n",
      "Flipped 2553.0 training samples (3.9890624999999997 %)\n",
      "Mean IOU: 0.42709359441947486\n",
      "Mean dist: 0.280367719333165\n",
      "shape detect: 0.3453181968498691\n",
      "Epoch:  15\n",
      "2000/2000 - 2s - loss: 0.0316 - accuracy: 0.6141 - val_loss: 0.0544 - val_accuracy: 0.3951\n",
      "Flipped 2456.0 training samples (3.8375 %)\n",
      "Mean IOU: 0.4341932014417995\n",
      "Mean dist: 0.28543919608924767\n",
      "shape detect: 0.3475075635425105\n",
      "Epoch:  16\n",
      "2000/2000 - 2s - loss: 0.0315 - accuracy: 0.6129 - val_loss: 0.0549 - val_accuracy: 0.3711\n",
      "Flipped 2428.0 training samples (3.7937499999999997 %)\n",
      "Mean IOU: 0.42363686865479644\n",
      "Mean dist: 0.2865576291932419\n",
      "shape detect: 0.3378142163208044\n",
      "Epoch:  17\n",
      "2000/2000 - 2s - loss: 0.0315 - accuracy: 0.6085 - val_loss: 0.0545 - val_accuracy: 0.3942\n",
      "Flipped 2175.0 training samples (3.3984374999999996 %)\n",
      "Mean IOU: 0.4227361521744322\n",
      "Mean dist: 0.284986660265644\n",
      "shape detect: 0.34826267410683226\n",
      "Epoch:  18\n",
      "2000/2000 - 2s - loss: 0.0312 - accuracy: 0.6120 - val_loss: 0.0540 - val_accuracy: 0.3773\n",
      "Flipped 2069.0 training samples (3.2328125 %)\n",
      "Mean IOU: 0.4320188626493841\n",
      "Mean dist: 0.28090199293085477\n",
      "shape detect: 0.34656793551071424\n",
      "Epoch:  19\n",
      "2000/2000 - 2s - loss: 0.0310 - accuracy: 0.6122 - val_loss: 0.0550 - val_accuracy: 0.4154\n",
      "Flipped 2051.0 training samples (3.2046875000000004 %)\n",
      "Mean IOU: 0.43316169891962675\n",
      "Mean dist: 0.28921779307461315\n",
      "shape detect: 0.33874689366939204\n",
      "Epoch:  20\n",
      "2000/2000 - 2s - loss: 0.0309 - accuracy: 0.6131 - val_loss: 0.0558 - val_accuracy: 0.4054\n",
      "Flipped 2159.0 training samples (3.3734374999999996 %)\n",
      "Mean IOU: 0.42680446127229005\n",
      "Mean dist: 0.2853109767230906\n",
      "shape detect: 0.334195574805331\n",
      "Epoch:  21\n",
      "2000/2000 - 2s - loss: 0.0308 - accuracy: 0.6168 - val_loss: 0.0544 - val_accuracy: 0.3838\n",
      "Flipped 2340.0 training samples (3.65625 %)\n",
      "Mean IOU: 0.437763210557559\n",
      "Mean dist: 0.2886655233553445\n",
      "shape detect: 0.33006220254693075\n",
      "Epoch:  22\n",
      "2000/2000 - 2s - loss: 0.0307 - accuracy: 0.6184 - val_loss: 0.0546 - val_accuracy: 0.3774\n",
      "Flipped 2506.0 training samples (3.9156249999999995 %)\n",
      "Mean IOU: 0.41933089717677363\n",
      "Mean dist: 0.28295950964660993\n",
      "shape detect: 0.3309637047655586\n",
      "Epoch:  23\n",
      "2000/2000 - 2s - loss: 0.0306 - accuracy: 0.6166 - val_loss: 0.0547 - val_accuracy: 0.4068\n",
      "Flipped 2255.0 training samples (3.5234375 %)\n",
      "Mean IOU: 0.42589776836852355\n",
      "Mean dist: 0.2890797587627968\n",
      "shape detect: 0.32735844097288724\n",
      "Epoch:  24\n",
      "2000/2000 - 2s - loss: 0.0305 - accuracy: 0.6180 - val_loss: 0.0543 - val_accuracy: 0.4411\n",
      "Flipped 2415.0 training samples (3.7734375 %)\n",
      "Mean IOU: 0.42637534945176797\n",
      "Mean dist: 0.287462795977722\n",
      "shape detect: 0.3303132899339918\n",
      "Epoch:  25\n",
      "2000/2000 - 2s - loss: 0.0307 - accuracy: 0.6175 - val_loss: 0.0555 - val_accuracy: 0.3946\n",
      "Flipped 2748.0 training samples (4.29375 %)\n",
      "Mean IOU: 0.41793583487068836\n",
      "Mean dist: 0.2773806880561805\n",
      "shape detect: 0.3362985937034489\n",
      "Epoch:  26\n",
      "2000/2000 - 2s - loss: 0.0304 - accuracy: 0.6223 - val_loss: 0.0542 - val_accuracy: 0.3989\n",
      "Flipped 2305.0 training samples (3.6015625000000004 %)\n",
      "Mean IOU: 0.42934317146753576\n",
      "Mean dist: 0.2857722946797759\n",
      "shape detect: 0.32297917196357256\n",
      "Epoch:  27\n",
      "2000/2000 - 2s - loss: 0.0303 - accuracy: 0.6217 - val_loss: 0.0548 - val_accuracy: 0.4791\n",
      "Flipped 2602.0 training samples (4.065625 %)\n",
      "Mean IOU: 0.4283487944634777\n",
      "Mean dist: 0.290503742859634\n",
      "shape detect: 0.33299199755038866\n",
      "Epoch:  28\n",
      "2000/2000 - 2s - loss: 0.0302 - accuracy: 0.6193 - val_loss: 0.0534 - val_accuracy: 0.4072\n",
      "Flipped 2226.0 training samples (3.478125 %)\n",
      "Mean IOU: 0.4220425409263097\n",
      "Mean dist: 0.27738944481638617\n",
      "shape detect: 0.327362208297602\n",
      "Epoch:  29\n",
      "2000/2000 - 2s - loss: 0.0303 - accuracy: 0.6206 - val_loss: 0.0542 - val_accuracy: 0.4049\n",
      "Flipped 2403.0 training samples (3.7546875 %)\n",
      "Mean IOU: 0.41727706653956276\n",
      "Mean dist: 0.290701926632692\n",
      "shape detect: 0.33138120499741125\n",
      "Epoch:  30\n",
      "2000/2000 - 2s - loss: 0.0303 - accuracy: 0.6161 - val_loss: 0.0552 - val_accuracy: 0.4370\n",
      "Flipped 1990.0 training samples (3.109375 %)\n",
      "Mean IOU: 0.41889197677019274\n",
      "Mean dist: 0.28441606180414714\n",
      "shape detect: 0.3246477086971301\n",
      "Epoch:  31\n",
      "2000/2000 - 2s - loss: 0.0301 - accuracy: 0.6208 - val_loss: 0.0546 - val_accuracy: 0.3873\n",
      "Flipped 2080.0 training samples (3.25 %)\n",
      "Mean IOU: 0.4255764454343856\n",
      "Mean dist: 0.2800183335978013\n",
      "shape detect: 0.3200751606845646\n",
      "Epoch:  32\n",
      "2000/2000 - 2s - loss: 0.0299 - accuracy: 0.6240 - val_loss: 0.0548 - val_accuracy: 0.4396\n",
      "Flipped 2200.0 training samples (3.4375000000000004 %)\n",
      "Mean IOU: 0.42700921995960595\n",
      "Mean dist: 0.2785705557075394\n",
      "shape detect: 0.3215464548155548\n",
      "Epoch:  33\n"
     ]
    },
    {
     "name": "stdout",
     "output_type": "stream",
     "text": [
      "2000/2000 - 2s - loss: 0.0299 - accuracy: 0.6263 - val_loss: 0.0547 - val_accuracy: 0.4234\n",
      "Flipped 2243.0 training samples (3.5046874999999997 %)\n",
      "Mean IOU: 0.432768526514415\n",
      "Mean dist: 0.2875307649762302\n",
      "shape detect: 0.3194053434233415\n",
      "Epoch:  34\n",
      "2000/2000 - 2s - loss: 0.0301 - accuracy: 0.6248 - val_loss: 0.0547 - val_accuracy: 0.4082\n",
      "Flipped 2411.0 training samples (3.7671875 %)\n",
      "Mean IOU: 0.42652009498150273\n",
      "Mean dist: 0.2868067869732056\n",
      "shape detect: 0.3293528373601358\n",
      "Epoch:  35\n",
      "2000/2000 - 2s - loss: 0.0300 - accuracy: 0.6226 - val_loss: 0.0549 - val_accuracy: 0.3882\n",
      "Flipped 2492.0 training samples (3.89375 %)\n",
      "Mean IOU: 0.4081710646647357\n",
      "Mean dist: 0.270097621349866\n",
      "shape detect: 0.33019385197828466\n",
      "Epoch:  36\n",
      "2000/2000 - 2s - loss: 0.0301 - accuracy: 0.6220 - val_loss: 0.0540 - val_accuracy: 0.3992\n",
      "Flipped 2321.0 training samples (3.6265625000000004 %)\n",
      "Mean IOU: 0.41907940996961873\n",
      "Mean dist: 0.28567347935931425\n",
      "shape detect: 0.33090456054935147\n",
      "Epoch:  37\n",
      "2000/2000 - 2s - loss: 0.0300 - accuracy: 0.6235 - val_loss: 0.0551 - val_accuracy: 0.3901\n",
      "Flipped 2279.0 training samples (3.5609374999999996 %)\n",
      "Mean IOU: 0.4143759991398795\n",
      "Mean dist: 0.28112122045726146\n",
      "shape detect: 0.32561845519165744\n",
      "Epoch:  38\n",
      "2000/2000 - 2s - loss: 0.0298 - accuracy: 0.6248 - val_loss: 0.0541 - val_accuracy: 0.4592\n",
      "Flipped 2143.0 training samples (3.3484374999999997 %)\n",
      "Mean IOU: 0.41475650986524953\n",
      "Mean dist: 0.2781311092317295\n",
      "shape detect: 0.3206725741824761\n",
      "Epoch:  39\n",
      "2000/2000 - 2s - loss: 0.0298 - accuracy: 0.6228 - val_loss: 0.0541 - val_accuracy: 0.4362\n",
      "Flipped 2231.0 training samples (3.4859375 %)\n",
      "Mean IOU: 0.4070344345335038\n",
      "Mean dist: 0.2801152009499858\n",
      "shape detect: 0.3183148416465334\n",
      "Epoch:  40\n",
      "2000/2000 - 2s - loss: 0.0297 - accuracy: 0.6218 - val_loss: 0.0543 - val_accuracy: 0.4231\n",
      "Flipped 2090.0 training samples (3.265625 %)\n",
      "Mean IOU: 0.4224056950149731\n",
      "Mean dist: 0.28078072412618665\n",
      "shape detect: 0.3236617056300506\n",
      "Epoch:  41\n",
      "2000/2000 - 2s - loss: 0.0297 - accuracy: 0.6265 - val_loss: 0.0548 - val_accuracy: 0.3928\n",
      "Flipped 2341.0 training samples (3.6578125000000004 %)\n",
      "Mean IOU: 0.4331339876286646\n",
      "Mean dist: 0.2905595683324888\n",
      "shape detect: 0.3167006970595474\n",
      "Epoch:  42\n",
      "2000/2000 - 2s - loss: 0.0296 - accuracy: 0.6257 - val_loss: 0.0553 - val_accuracy: 0.4414\n",
      "Flipped 2304.0 training samples (3.5999999999999996 %)\n",
      "Mean IOU: 0.435117864263653\n",
      "Mean dist: 0.2841712478475264\n",
      "shape detect: 0.3077603103481985\n",
      "Epoch:  43\n",
      "2000/2000 - 2s - loss: 0.0296 - accuracy: 0.6281 - val_loss: 0.0553 - val_accuracy: 0.4355\n",
      "Flipped 2415.0 training samples (3.7734375 %)\n",
      "Mean IOU: 0.4219928330289174\n",
      "Mean dist: 0.27364371570728424\n",
      "shape detect: 0.3124475398039797\n",
      "Epoch:  44\n",
      "2000/2000 - 2s - loss: 0.0295 - accuracy: 0.6270 - val_loss: 0.0539 - val_accuracy: 0.4193\n",
      "Flipped 2293.0 training samples (3.5828125 %)\n",
      "Mean IOU: 0.42407997617321747\n",
      "Mean dist: 0.28073699074775466\n",
      "shape detect: 0.3137728144310232\n",
      "Epoch:  45\n",
      "2000/2000 - 2s - loss: 0.0294 - accuracy: 0.6296 - val_loss: 0.0534 - val_accuracy: 0.3873\n",
      "Flipped 2536.0 training samples (3.9625 %)\n",
      "Mean IOU: 0.4269533500335659\n",
      "Mean dist: 0.28881382937803585\n",
      "shape detect: 0.3211398130490374\n",
      "Epoch:  46\n",
      "2000/2000 - 2s - loss: 0.0297 - accuracy: 0.6265 - val_loss: 0.0554 - val_accuracy: 0.3844\n",
      "Flipped 2248.0 training samples (3.5125 %)\n",
      "Mean IOU: 0.4336517754065597\n",
      "Mean dist: 0.2856337547701068\n",
      "shape detect: 0.31784853073711467\n",
      "Epoch:  47\n",
      "2000/2000 - 2s - loss: 0.0295 - accuracy: 0.6275 - val_loss: 0.0552 - val_accuracy: 0.3613\n",
      "Flipped 2497.0 training samples (3.9015625 %)\n",
      "Mean IOU: 0.42884053344560896\n",
      "Mean dist: 0.2843445821984691\n",
      "shape detect: 0.3222253630425713\n",
      "Epoch:  48\n",
      "2000/2000 - 2s - loss: 0.0295 - accuracy: 0.6278 - val_loss: 0.0538 - val_accuracy: 0.4190\n",
      "Flipped 2492.0 training samples (3.89375 %)\n",
      "Mean IOU: 0.43542329829777576\n",
      "Mean dist: 0.28110173981955977\n",
      "shape detect: 0.32030878475771185\n",
      "Epoch:  49\n",
      "2000/2000 - 2s - loss: 0.0294 - accuracy: 0.6250 - val_loss: 0.0555 - val_accuracy: 0.3934\n",
      "Flipped 2249.0 training samples (3.5140625 %)\n",
      "Mean IOU: 0.4301666895780068\n",
      "Mean dist: 0.2854827478129732\n",
      "shape detect: 0.3187831400543998\n"
     ]
    }
   ],
   "source": [
    "# Flip bboxes during training.\n",
    "# Note: The validation loss is always quite big here because we don't flip the bounding boxes for the validation data. \n",
    "\n",
    "num_epochs = 50\n",
    "flipped_train_y = np.array(train_y)\n",
    "flipped = np.zeros((len(flipped_train_y), num_epochs))\n",
    "ious = np.zeros((len(flipped_train_y), num_epochs))\n",
    "dists = np.zeros((len(flipped_train_y), num_epochs))\n",
    "shape_accuracy = np.zeros((len(flipped_train_y), num_epochs))\n",
    "\n",
    "for epoch in range(num_epochs):\n",
    "    print ('Epoch: ', epoch)\n",
    "    model.fit(train_X, flipped_train_y, epochs = 1, validation_data = (test_X, test_y), verbose = 2,\n",
    "              callbacks = [ModelCheckpoint('Two_Rectangles_or_Triangles_model.h5',\n",
    "                                           monitor = 'val_loss',\n",
    "                                           save_best_only = True)])\n",
    "    pred_y = model.predict(train_X)\n",
    "\n",
    "    for i, (pred_bboxes, exp_bboxes) in enumerate(zip(pred_y, flipped_train_y)):\n",
    "        \n",
    "        flipped_exp_bboxes = np.concatenate([exp_bboxes[5:], exp_bboxes[:5]])\n",
    "        #if i < 3:\n",
    "        #    print(\"flipped_exp_bboxes = \\n\", flipped_exp_bboxes, \"\\nexp_bboxes = \\n\", exp_bboxes)\n",
    "        #    print(\"exp_bboxes\", exp_bboxes, \"\\n\", exp_bboxes[0:4])\n",
    "        #    print(\"flipped_exp_bboxes: \", flipped_exp_bboxes, \"\\n\", flipped_exp_bboxes[1:5])\n",
    "        mse = np.mean(np.square(pred_bboxes[0:4] - exp_bboxes[0:4]) + np.square(pred_bboxes[5:9] - exp_bboxes[5:9]))\n",
    "        mse_flipped = np.mean(np.square(pred_bboxes[0:4] - flipped_exp_bboxes[0:4]) + np.square(pred_bboxes[5:9] - flipped_exp_bboxes[5:9]))\n",
    "        \n",
    "        #if i < 3:\n",
    "        #    print(\"mse = \", mse, \"\\nmse_flipped = \", mse_flipped)\n",
    "        iou = IOU(pred_bboxes[:4], exp_bboxes[:4]) + IOU(pred_bboxes[5:], exp_bboxes[5:])\n",
    "        iou_flipped = IOU(pred_bboxes[:4], flipped_exp_bboxes[:4]) + IOU(pred_bboxes[5:], flipped_exp_bboxes[5:])\n",
    "        \n",
    "        dist = distance(pred_bboxes[:4], exp_bboxes[:4]) + IOU(pred_bboxes[5:], exp_bboxes[5:])\n",
    "        dist_flipped = distance(pred_bboxes[:4], flipped_exp_bboxes[:4]) + IOU(pred_bboxes[5:], flipped_exp_bboxes[5:])\n",
    "        \n",
    "        #if i < 3:\n",
    "        #    print(\"pred_bboxes[:4] = \", pred_bboxes[:4], \"\\t[5:9] = \", pred_bboxes[5:9])\n",
    "        #    print(\"exp_bboxes[:4] = \", exp_bboxes[:4], \"\\t[5:9] = \", exp_bboxes[5:9])\n",
    "        #    print(\"flipped_exp_bboxes[:4] = \", flipped_exp_bboxes[:4], \" flipped_exp_bboxes[5:] = \", flipped_exp_bboxes[5:])\n",
    "        \n",
    "        shape = np.sqrt(np.square(pred_bboxes[4] - exp_bboxes[4]) + np.square(pred_bboxes[9] - exp_bboxes[9]))\n",
    "        shape_flipped = np.sqrt(np.square(pred_bboxes[4] - exp_bboxes[4]) + np.square(pred_bboxes[9] - flipped_exp_bboxes[9]))\n",
    "        \n",
    "        if mse_flipped < mse:  # using iou or dist here leads to similar results\n",
    "            flipped_train_y[i] = flipped_exp_bboxes\n",
    "            flipped[i, epoch] = 1\n",
    "            ious[i, epoch] = iou_flipped / 2.\n",
    "            dists[i, epoch] = dist_flipped / 2.\n",
    "            shape_accuracy[i, epoch] = shape_flipped\n",
    "        else:\n",
    "            ious[i, epoch] = iou / 2.\n",
    "            dists[i, epoch] = dist / 2.\n",
    "            shape_accuracy[i, epoch] = shape\n",
    "            \n",
    "        #print(\"------------------------------\")\n",
    "    print ('Flipped {} training samples ({} %)'.format(np.sum(flipped[:, epoch]), np.mean(flipped[:, epoch]) * 100.))\n",
    "    print ('Mean IOU: {}'.format(np.mean(ious[:, epoch])))\n",
    "    print ('Mean dist: {}'.format(np.mean(dists[:, epoch])))\n",
    "    print ('shape detect: {}'.format(np.mean(shape_accuracy[:, epoch])))"
   ]
  },
  {
   "cell_type": "code",
   "execution_count": 27,
   "metadata": {
    "ExecuteTime": {
     "end_time": "2016-07-06T23:55:00.367000",
     "start_time": "2016-07-06T23:54:57.699000"
    },
    "scrolled": true
   },
   "outputs": [
    {
     "data": {
      "image/png": "[encoded data removed]",
      "text/plain": [
       "<Figure size 432x288 with 1 Axes>"
      ]
     },
     "metadata": {
      "needs_background": "light"
     },
     "output_type": "display_data"
    }
   ],
   "source": [
    "plt.pcolor(flipped[:, :], cmap='Greys')\n",
    "plt.xlabel('Epoch')\n",
    "plt.ylabel('Training sample')\n",
    "\n",
    "plt.savefig('two-rectangles-or-triangles_flips.png', dpi = 100)"
   ]
  },
  {
   "cell_type": "code",
   "execution_count": 28,
   "metadata": {
    "ExecuteTime": {
     "end_time": "2016-07-06T23:55:01.541000",
     "start_time": "2016-07-06T23:55:01.245000"
    }
   },
   "outputs": [
    {
     "data": {
      "image/png": "[encoded data removed]",
      "text/plain": [
       "<Figure size 432x288 with 1 Axes>"
      ]
     },
     "metadata": {
      "needs_background": "light"
     },
     "output_type": "display_data"
    }
   ],
   "source": [
    "plt.plot(np.mean(ious, axis=0), label='Mean IOU')  # between predicted and assigned true bboxes\n",
    "plt.plot(np.mean(dists, axis=0), label='Mean distance')  # relative to image size\n",
    "plt.plot(np.mean(shape_accuracy, axis=0), label='Mean shape')\n",
    "\n",
    "mean_ious_epoch = np.mean(ious, axis = 0)\n",
    "mean_dists_epoch = np.mean(dists, axis = 0)\n",
    "mean_shape_epoch = np.mean(shape_accuracy, axis = 0)\n",
    "\n",
    "plt.annotate(np.round(np.max(mean_ious_epoch), 3), (len(mean_ious_epoch) - 1, mean_ious_epoch[-1] + 0.02), horizontalalignment = 'right', color = 'purple')\n",
    "plt.annotate(np.round(np.min(mean_dists_epoch), 3), (len(mean_dists_epoch) - 1, mean_dists_epoch[-1] + 0.05), horizontalalignment = 'right', color = 'g')\n",
    "plt.annotate(np.round(np.min(mean_shape_epoch), 3), (len(mean_shape_epoch) - 1, mean_shape_epoch[-1] - 0.08), horizontalalignment = 'right', color = 'r')\n",
    "\n",
    "ax = plt.gca()\n",
    "ax.axes.yaxis.set_visible(False)\n",
    "\n",
    "plt.legend()\n",
    "plt.xlabel('Epoch')\n",
    "plt.ylim(0, 0.8)\n",
    "\n",
    "plt.savefig('two-rectangles-or-triangles_training_metrics.png', dpi = 100)"
   ]
  },
  {
   "cell_type": "code",
   "execution_count": 29,
   "metadata": {
    "ExecuteTime": {
     "end_time": "2016-07-06T23:55:02.905000",
     "start_time": "2016-07-06T23:55:02.569000"
    }
   },
   "outputs": [
    {
     "data": {
      "text/plain": [
       "((16000, 2, 4), (16000, 2, 1))"
      ]
     },
     "execution_count": 29,
     "metadata": {},
     "output_type": "execute_result"
    }
   ],
   "source": [
    "pred_y = model.predict(test_X)\n",
    "pred_y = pred_y.reshape(len(pred_y), num_objects, -1)\n",
    "pred_bboxes = pred_y[..., :4] * img_size\n",
    "pred_shapes = pred_y[..., 4:5]\n",
    "pred_bboxes.shape, pred_shapes.shape"
   ]
  },
  {
   "cell_type": "code",
   "execution_count": 31,
   "metadata": {
    "ExecuteTime": {
     "end_time": "2016-07-06T23:57:24.479000",
     "start_time": "2016-07-06T23:57:22.606000"
    }
   },
   "outputs": [
    {
     "data": {
      "image/png": "[encoded data removed]",
      "text/plain": [
       "<Figure size 1152x576 with 4 Axes>"
      ]
     },
     "metadata": {
      "needs_background": "light"
     },
     "output_type": "display_data"
    }
   ],
   "source": [
    "plt.figure(figsize=(16, 8))\n",
    "for i_subplot in range(1, 5):\n",
    "    plt.subplot(1, 4, i_subplot)\n",
    "    i = np.random.randint(len(test_X))\n",
    "    plt.imshow(test_imgs[i].T, cmap='Greys', interpolation='none', origin='lower', extent=[0, img_size, 0, img_size])\n",
    "    for pred_bbox, exp_bbox, pred_shape in zip(pred_bboxes[i], test_bboxes[i], pred_shapes[i]):\n",
    "        plt.gca().add_patch(matplotlib.patches.Rectangle((pred_bbox[0], pred_bbox[1]), pred_bbox[2], pred_bbox[3], ec='r' if pred_shape[0] <= 0.5 else 'y', fc='none'))\n",
    "        # TODO: Calculate max IOU with all expected bounding boxes.\n",
    "#         plt.annotate('IOU: {:.2f}'.format(IOU(pred_bbox, exp_bbox)), (pred_bbox[0], pred_bbox[1]+pred_bbox[3]+0.4), color='r')\n",
    "\n",
    "plt.savefig('two-rectangles-or-triangles-results.png', dpi=300)"
   ]
  },
  {
   "cell_type": "code",
   "execution_count": null,
   "metadata": {},
   "outputs": [],
   "source": []
  }
 ],
 "metadata": {
  "kernelspec": {
   "display_name": "Python 3",
   "language": "python",
   "name": "python3"
  },
  "language_info": {
   "codemirror_mode": {
    "name": "ipython",
    "version": 3
   },
   "file_extension": ".py",
   "mimetype": "text/x-python",
   "name": "python",
   "nbconvert_exporter": "python",
   "pygments_lexer": "ipython3",
   "version": "3.8.3"
  },
  "toc": {
   "nav_menu": {},
   "number_sections": true,
   "sideBar": true,
   "skip_h1_title": false,
   "title_cell": "Table of Contents",
   "title_sidebar": "Contents",
   "toc_cell": false,
   "toc_position": {},
   "toc_section_display": true,
   "toc_window_display": false
  }
 },
 "nbformat": 4,
 "nbformat_minor": 1
}
