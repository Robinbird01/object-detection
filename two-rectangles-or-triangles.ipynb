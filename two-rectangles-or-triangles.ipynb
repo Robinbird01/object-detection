{
 "cells": [
  {
   "cell_type": "code",
   "execution_count": 1,
   "metadata": {
    "ExecuteTime": {
     "end_time": "2016-07-06T23:25:52.986000",
     "start_time": "2016-07-06T23:25:52.454000"
    }
   },
   "outputs": [],
   "source": [
    "import numpy as np\n",
    "import matplotlib.pyplot as plt\n",
    "import matplotlib\n",
    "%matplotlib inline"
   ]
  },
  {
   "cell_type": "code",
   "execution_count": 2,
   "metadata": {
    "ExecuteTime": {
     "end_time": "2016-07-06T23:25:58.288000",
     "start_time": "2016-07-06T23:25:54.225000"
    }
   },
   "outputs": [
    {
     "data": {
      "text/plain": [
       "((50000, 16, 16), (50000, 2, 4))"
      ]
     },
     "execution_count": 2,
     "metadata": {},
     "output_type": "execute_result"
    }
   ],
   "source": [
    "num_imgs = 50000\n",
    "\n",
    "img_size = 16\n",
    "min_rect_size = 3\n",
    "max_rect_size = 8\n",
    "num_objects = 2\n",
    "\n",
    "bboxes = np.zeros((num_imgs, num_objects, 4))\n",
    "imgs = np.zeros((num_imgs, img_size, img_size))\n",
    "shapes = np.zeros((num_imgs, num_objects, 1))\n",
    "\n",
    "for i_img in range(num_imgs):\n",
    "    for i_object in range(num_objects):\n",
    "        if np.random.choice([True, False]):\n",
    "            width, height = np.random.randint(min_rect_size, max_rect_size, size=2)\n",
    "            x = np.random.randint(0, img_size - width)\n",
    "            y = np.random.randint(0, img_size - height)\n",
    "            imgs[i_img, x:x+width, y:y+height] = 1.  #???\n",
    "            bboxes[i_img, i_object] = [x, y, width, height]\n",
    "            shapes[i_img, i_object] = [0]\n",
    "        else:\n",
    "            size = np.random.randint(min_rect_size, max_rect_size)\n",
    "            x, y = np.random.randint(0, img_size - size, size=2)\n",
    "            mask = np.tril_indices(size)  #provide triangle...\n",
    "            \n",
    "            \n",
    "            imgs[i_img, x + mask[0], y + mask[1]] = 1.\n",
    "            bboxes[i_img, i_object] = [x, y, size, size]\n",
    "            shapes[i_img, i_object] = [1]\n",
    "        \n",
    "imgs.shape, bboxes.shape"
   ]
  },
  {
   "cell_type": "code",
   "execution_count": 3,
   "metadata": {
    "ExecuteTime": {
     "end_time": "2016-07-06T23:25:58.544000",
     "start_time": "2016-07-06T23:25:58.291000"
    }
   },
   "outputs": [
    {
     "data": {
      "image/png": "[encoded data removed]",
      "text/plain": [
       "<Figure size 432x288 with 1 Axes>"
      ]
     },
     "metadata": {
      "needs_background": "light"
     },
     "output_type": "display_data"
    }
   ],
   "source": [
    "i = 0\n",
    "# TODO: Why does the array have to be transposed?\n",
    "plt.imshow(imgs[i].T, cmap='Greys', interpolation='none', origin='lower', extent=[0, img_size, 0, img_size])\n",
    "for bbox, shape in zip(bboxes[i], shapes[i]):\n",
    "    plt.gca().add_patch(matplotlib.patches.Rectangle((bbox[0], bbox[1]), bbox[2], bbox[3], lw = 2, ec='r' if shape[0] == 0 else 'y', fc='none'))"
   ]
  },
  {
   "cell_type": "code",
   "execution_count": 4,
   "metadata": {
    "ExecuteTime": {
     "end_time": "2016-07-06T23:25:59.719000",
     "start_time": "2016-07-06T23:25:59.203000"
    }
   },
   "outputs": [
    {
     "data": {
      "text/plain": [
       "((50000, 256), -4.842182210751389e-17, 1.0000000000000007)"
      ]
     },
     "execution_count": 4,
     "metadata": {},
     "output_type": "execute_result"
    }
   ],
   "source": [
    "X = (imgs.reshape(num_imgs, -1) - np.mean(imgs)) / np.std(imgs)\n",
    "X.shape, np.mean(X), np.std(X)"
   ]
  },
  {
   "cell_type": "code",
   "execution_count": 5,
   "metadata": {
    "ExecuteTime": {
     "end_time": "2016-07-06T23:26:00.476000",
     "start_time": "2016-07-06T23:26:00.464000"
    }
   },
   "outputs": [
    {
     "name": "stdout",
     "output_type": "stream",
     "text": [
      "[[0.125  0.5625 0.375  0.1875 0.     0.5    0.0625 0.375  0.1875 0.    ]\n",
      " [0.125  0.25   0.3125 0.4375 0.     0.125  0.     0.3125 0.3125 1.    ]\n",
      " [0.625  0.1875 0.3125 0.4375 0.     0.375  0.1875 0.375  0.3125 0.    ]]\n"
     ]
    }
   ],
   "source": [
    "# TODO: We use binary classification here - for multiple classes, convert classes to one-hot vectors.\n",
    "y = np.concatenate([bboxes / img_size, shapes], axis = -1).reshape(num_imgs, -1)\n",
    "#print(y[:3])"
   ]
  },
  {
   "cell_type": "code",
   "execution_count": 6,
   "metadata": {
    "ExecuteTime": {
     "end_time": "2016-07-06T23:26:01.233000",
     "start_time": "2016-07-06T23:26:01.226000"
    }
   },
   "outputs": [
    {
     "name": "stdout",
     "output_type": "stream",
     "text": [
      "[[0.125  0.5625 0.375  0.1875 0.     0.5    0.0625 0.375  0.1875 0.    ]\n",
      " [0.125  0.25   0.3125 0.4375 0.     0.125  0.     0.3125 0.3125 1.    ]\n",
      " [0.625  0.1875 0.3125 0.4375 0.     0.375  0.1875 0.375  0.3125 0.    ]]\n"
     ]
    }
   ],
   "source": [
    "i = int(0.8 * num_imgs)\n",
    "train_X = X[:i]\n",
    "test_X = X[i:]\n",
    "train_y = y[:i]\n",
    "test_y = y[i:]\n",
    "test_imgs = imgs[i:]\n",
    "test_bboxes = bboxes[i:]\n",
    "#print(train_y[:3])"
   ]
  },
  {
   "cell_type": "code",
   "execution_count": 7,
   "metadata": {
    "ExecuteTime": {
     "end_time": "2016-07-06T23:26:06.005000",
     "start_time": "2016-07-06T23:26:02.162000"
    },
    "scrolled": true
   },
   "outputs": [
    {
     "name": "stdout",
     "output_type": "stream",
     "text": [
      "Model: \"sequential\"\n",
      "_________________________________________________________________\n",
      "Layer (type)                 Output Shape              Param #   \n",
      "=================================================================\n",
      "dense (Dense)                (None, 256)               65792     \n",
      "_________________________________________________________________\n",
      "activation (Activation)      (None, 256)               0         \n",
      "_________________________________________________________________\n",
      "dropout (Dropout)            (None, 256)               0         \n",
      "_________________________________________________________________\n",
      "dense_1 (Dense)              (None, 10)                2570      \n",
      "=================================================================\n",
      "Total params: 68,362\n",
      "Trainable params: 68,362\n",
      "Non-trainable params: 0\n",
      "_________________________________________________________________\n"
     ]
    }
   ],
   "source": [
    "from keras.models import Sequential\n",
    "from keras.layers import Dense, Activation, Dropout\n",
    "from keras.optimizers import SGD\n",
    "from keras.callbacks import ModelCheckpoint\n",
    "from keras.models import load_model\n",
    "model = Sequential([\n",
    "        Dense(256, input_dim = X.shape[-1]), \n",
    "        Activation('relu'), \n",
    "        Dropout(0.6), \n",
    "        Dense(y.shape[-1])\n",
    "    ])\n",
    "#model.compile('adadelta', 'mse')#by author\n",
    "model.compile(loss = 'mse', optimizer = 'adam', metrics = ['accuracy'])#by Clio\n",
    "model.summary()"
   ]
  },
  {
   "cell_type": "code",
   "execution_count": 8,
   "metadata": {},
   "outputs": [],
   "source": [
    "def IOU(bbox1, bbox2):\n",
    "    '''Calculate overlap between two bounding boxes [x, y, w, h] as the area of intersection over the area of unity'''\n",
    "    x1, y1, w1, h1 = bbox1[0], bbox1[1], bbox1[2], bbox1[3]  # TODO: Check if its more performant if tensor elements are accessed directly below.\n",
    "    x2, y2, w2, h2 = bbox2[0], bbox2[1], bbox2[2], bbox2[3]\n",
    "\n",
    "    w_I = min(x1 + w1, x2 + w2) - max(x1, x2)\n",
    "    h_I = min(y1 + h1, y2 + h2) - max(y1, y2)\n",
    "    w_I = max(w_I, 0)  # set w_I and h_I zero if there is no intersection\n",
    "    h_I = max(h_I, 0)\n",
    "    I = w_I * h_I\n",
    "\n",
    "    U = w1 * h1 + w2 * h2 - I\n",
    "\n",
    "    return I / U"
   ]
  },
  {
   "cell_type": "code",
   "execution_count": 9,
   "metadata": {},
   "outputs": [],
   "source": [
    "def distance(bbox1, bbox2):\n",
    "    return np.sqrt(np.sum(np.square(bbox1[:2] - bbox2[:2])))"
   ]
  },
  {
   "cell_type": "code",
   "execution_count": 46,
   "metadata": {
    "ExecuteTime": {
     "end_time": "2016-07-06T23:32:54.867000",
     "start_time": "2016-07-06T23:26:06.009000"
    },
    "code_folding": [
     2,
     17
    ],
    "collapsed": true
   },
   "outputs": [
    {
     "name": "stdout",
     "output_type": "stream",
     "text": [
      "Epoch:  0\n",
      "1250/1250 - 2s - loss: 0.0479 - accuracy: 0.3632 - val_loss: 0.0420 - val_accuracy: 0.4267\n",
      "Flipped 19705.0 training samples (49.262499999999996 %)\n",
      "Mean IOU: 0.27533989721867586\n",
      "Mean dist: 0.17884397090489723\n",
      "shape detect: 0.46679507164321893\n",
      "Epoch:  1\n",
      "1250/1250 - 2s - loss: 0.0427 - accuracy: 0.4657 - val_loss: 0.0457 - val_accuracy: 0.3633\n",
      "Flipped 8153.0 training samples (20.3825 %)\n",
      "Mean IOU: 0.3372477302173392\n",
      "Mean dist: 0.1444781528768479\n",
      "shape detect: 0.43981482590177057\n",
      "Epoch:  2\n",
      "1250/1250 - 2s - loss: 0.0380 - accuracy: 0.5170 - val_loss: 0.0490 - val_accuracy: 0.4414\n",
      "Flipped 4785.0 training samples (11.9625 %)\n",
      "Mean IOU: 0.386063839899706\n",
      "Mean dist: 0.12625972356246573\n",
      "shape detect: 0.40968929154578293\n",
      "Epoch:  3\n",
      "1250/1250 - 2s - loss: 0.0349 - accuracy: 0.5563 - val_loss: 0.0513 - val_accuracy: 0.3900\n",
      "Flipped 2453.0 training samples (6.132499999999999 %)\n",
      "Mean IOU: 0.4054743299846854\n",
      "Mean dist: 0.11729251434563912\n",
      "shape detect: 0.3832157710203832\n",
      "Epoch:  4\n",
      "1250/1250 - 2s - loss: 0.0334 - accuracy: 0.5720 - val_loss: 0.0516 - val_accuracy: 0.4214\n",
      "Flipped 1982.0 training samples (4.955 %)\n",
      "Mean IOU: 0.4123243018541417\n",
      "Mean dist: 0.11386278020355915\n",
      "shape detect: 0.3600534821423504\n",
      "Epoch:  5\n",
      "1250/1250 - 2s - loss: 0.0326 - accuracy: 0.5810 - val_loss: 0.0527 - val_accuracy: 0.3763\n",
      "Flipped 1539.0 training samples (3.8475 %)\n",
      "Mean IOU: 0.43355129880430165\n",
      "Mean dist: 0.10744319175551491\n",
      "shape detect: 0.3578474913707293\n",
      "Epoch:  6\n",
      "1250/1250 - 2s - loss: 0.0321 - accuracy: 0.5802 - val_loss: 0.0525 - val_accuracy: 0.3571\n",
      "Flipped 1550.0 training samples (3.875 %)\n",
      "Mean IOU: 0.40089772275215807\n",
      "Mean dist: 0.11481017002554525\n",
      "shape detect: 0.35834673871859724\n",
      "Epoch:  7\n",
      "1250/1250 - 2s - loss: 0.0319 - accuracy: 0.5890 - val_loss: 0.0535 - val_accuracy: 0.3847\n",
      "Flipped 1472.0 training samples (3.6799999999999997 %)\n",
      "Mean IOU: 0.4117129203690148\n",
      "Mean dist: 0.11137956074449466\n",
      "shape detect: 0.3518741270744226\n",
      "Epoch:  8\n",
      "1250/1250 - 2s - loss: 0.0316 - accuracy: 0.5912 - val_loss: 0.0527 - val_accuracy: 0.3862\n",
      "Flipped 1676.0 training samples (4.19 %)\n",
      "Mean IOU: 0.4345490448454955\n",
      "Mean dist: 0.106584518251654\n",
      "shape detect: 0.3480710523389721\n",
      "Epoch:  9\n",
      "1250/1250 - 2s - loss: 0.0313 - accuracy: 0.5943 - val_loss: 0.0526 - val_accuracy: 0.4090\n",
      "Flipped 1603.0 training samples (4.0075 %)\n",
      "Mean IOU: 0.4159831542827148\n",
      "Mean dist: 0.11010249405483252\n",
      "shape detect: 0.3533708449769824\n",
      "Epoch:  10\n",
      "1250/1250 - 2s - loss: 0.0313 - accuracy: 0.5916 - val_loss: 0.0534 - val_accuracy: 0.3836\n",
      "Flipped 1377.0 training samples (3.4425 %)\n",
      "Mean IOU: 0.4287212672686006\n",
      "Mean dist: 0.10782741696502082\n",
      "shape detect: 0.3446656551475746\n",
      "Epoch:  11\n",
      "1250/1250 - 2s - loss: 0.0311 - accuracy: 0.5966 - val_loss: 0.0532 - val_accuracy: 0.4103\n",
      "Flipped 1472.0 training samples (3.6799999999999997 %)\n",
      "Mean IOU: 0.4356206385288331\n",
      "Mean dist: 0.1051491544604755\n",
      "shape detect: 0.34045191281383386\n",
      "Epoch:  12\n",
      "1250/1250 - 2s - loss: 0.0310 - accuracy: 0.5954 - val_loss: 0.0535 - val_accuracy: 0.3869\n",
      "Flipped 1366.0 training samples (3.415 %)\n",
      "Mean IOU: 0.42600112742384244\n",
      "Mean dist: 0.1096430981159463\n",
      "shape detect: 0.3391866399730465\n",
      "Epoch:  13\n",
      "1250/1250 - 2s - loss: 0.0310 - accuracy: 0.5977 - val_loss: 0.0538 - val_accuracy: 0.3949\n",
      "Flipped 1516.0 training samples (3.7900000000000005 %)\n",
      "Mean IOU: 0.44172669207961207\n",
      "Mean dist: 0.10405300962104963\n",
      "shape detect: 0.3311362732491388\n",
      "Epoch:  14\n",
      "1250/1250 - 2s - loss: 0.0307 - accuracy: 0.5987 - val_loss: 0.0537 - val_accuracy: 0.4067\n",
      "Flipped 1751.0 training samples (4.3775 %)\n",
      "Mean IOU: 0.4364246760236174\n",
      "Mean dist: 0.10382494656814\n",
      "shape detect: 0.33288444586284804\n"
     ]
    }
   ],
   "source": [
    "# Flip bboxes during training.\n",
    "# Note: The validation loss is always quite big here because we don't flip the bounding boxes for the validation data. \n",
    "\n",
    "num_epochs = 15\n",
    "flipped_train_y = np.array(train_y)\n",
    "flipped = np.zeros((len(flipped_train_y), num_epochs))\n",
    "ious = np.zeros((len(flipped_train_y), num_epochs))\n",
    "dists = np.zeros((len(flipped_train_y), num_epochs))\n",
    "shape_accuracy = np.zeros((len(flipped_train_y), num_epochs))\n",
    "\n",
    "for epoch in range(num_epochs):\n",
    "    print ('Epoch: ', epoch)\n",
    "    model.fit(train_X, flipped_train_y, epochs = 1, validation_data = (test_X, test_y), verbose = 2,\n",
    "              callbacks = [ModelCheckpoint('Two_Rectangles_or_Triangles_model.h5',\n",
    "                                           monitor = 'val_loss',\n",
    "                                           save_best_only = True)])\n",
    "    pred_y = model.predict(train_X)\n",
    "\n",
    "    for i, (pred_bboxes, exp_bboxes) in enumerate(zip(pred_y, flipped_train_y)):\n",
    "        \n",
    "        flipped_exp_bboxes = np.concatenate([exp_bboxes[5:], exp_bboxes[:5]])\n",
    "        #if i < 3:\n",
    "        #    print(\"flipped_exp_bboxes = \\n\", flipped_exp_bboxes, \"\\nexp_bboxes = \\n\", exp_bboxes)\n",
    "        #    print(\"exp_bboxes\", exp_bboxes, \"\\n\", exp_bboxes[0:4])\n",
    "        #    print(\"flipped_exp_bboxes: \", flipped_exp_bboxes, \"\\n\", flipped_exp_bboxes[1:5])\n",
    "        mse = np.mean(np.square(pred_bboxes[0:4] - exp_bboxes[0:4]) + np.square(pred_bboxes[5:9] - exp_bboxes[5:9]))\n",
    "        mse_flipped = np.mean(np.square(pred_bboxes[0:4] - flipped_exp_bboxes[0:4]) + np.square(pred_bboxes[5:9] - flipped_exp_bboxes[5:9]))\n",
    "        \n",
    "        #if i < 3:\n",
    "        #    print(\"mse = \", mse, \"\\nmse_flipped = \", mse_flipped)\n",
    "        iou = IOU(pred_bboxes[:4], exp_bboxes[:4]) + IOU(pred_bboxes[5:], exp_bboxes[5:])\n",
    "        iou_flipped = IOU(pred_bboxes[:4], flipped_exp_bboxes[:4]) + IOU(pred_bboxes[5:], flipped_exp_bboxes[5:])\n",
    "        \n",
    "        dist = distance(pred_bboxes[:4], exp_bboxes[:4]) + distance(pred_bboxes[5:], exp_bboxes[5:])\n",
    "        dist_flipped = distance(pred_bboxes[:4], flipped_exp_bboxes[:4]) + distance(pred_bboxes[5:], flipped_exp_bboxes[5:])\n",
    "        #print (pred_bboxes[:3], \"\\n\", exp_bboxes[:3], \"\\n\", dist)\n",
    "        #if i < 3:\n",
    "        #    print(\"pred_bboxes[:4] = \", pred_bboxes[:4], \"\\t[5:9] = \", pred_bboxes[5:9])\n",
    "        #    print(\"exp_bboxes[:4] = \", exp_bboxes[:4], \"\\t[5:9] = \", exp_bboxes[5:9])\n",
    "        #    print(\"flipped_exp_bboxes[:4] = \", flipped_exp_bboxes[:4], \" flipped_exp_bboxes[5:] = \", flipped_exp_bboxes[5:])\n",
    "        \n",
    "        shape = np.sqrt(np.square(pred_bboxes[4] - exp_bboxes[4]) + np.square(pred_bboxes[9] - exp_bboxes[9]))\n",
    "        shape_flipped = np.sqrt(np.square(pred_bboxes[4] - exp_bboxes[4]) + np.square(pred_bboxes[9] - flipped_exp_bboxes[9]))\n",
    "        \n",
    "        if mse_flipped < mse:  # using iou or dist here leads to similar results\n",
    "            flipped_train_y[i] = flipped_exp_bboxes\n",
    "            flipped[i, epoch] = 1\n",
    "            ious[i, epoch] = iou_flipped / 2.\n",
    "            dists[i, epoch] = dist_flipped / 2.\n",
    "            shape_accuracy[i, epoch] = shape_flipped\n",
    "        else:\n",
    "            ious[i, epoch] = iou / 2.\n",
    "            dists[i, epoch] = dist / 2.\n",
    "            shape_accuracy[i, epoch] = shape\n",
    "            \n",
    "        #print(\"------------------------------\")\n",
    "    print ('Flipped {} training samples ({} %)'.format(np.sum(flipped[:, epoch]), np.mean(flipped[:, epoch]) * 100.))\n",
    "    print ('Mean IOU: {}'.format(np.mean(ious[:, epoch])))\n",
    "    print ('Mean dist: {}'.format(np.mean(dists[:, epoch])))\n",
    "    print ('shape detect: {}'.format(np.mean(shape_accuracy[:, epoch])))"
   ]
  },
  {
   "cell_type": "code",
   "execution_count": 63,
   "metadata": {
    "ExecuteTime": {
     "end_time": "2016-07-06T23:55:00.367000",
     "start_time": "2016-07-06T23:54:57.699000"
    },
    "scrolled": false
   },
   "outputs": [
    {
     "data": {
      "image/png": "[encoded data removed]",
      "text/plain": [
       "<Figure size 432x288 with 1 Axes>"
      ]
     },
     "metadata": {
      "needs_background": "light"
     },
     "output_type": "display_data"
    }
   ],
   "source": [
    "plt.pcolor(flipped[:, :], cmap='Greys')\n",
    "plt.xlabel('Epoch')\n",
    "plt.ylabel('Training sample')\n",
    "\n",
    "plt.savefig('two-rectangles-or-triangles_flips.png', dpi = 100)"
   ]
  },
  {
   "cell_type": "code",
   "execution_count": 64,
   "metadata": {
    "ExecuteTime": {
     "end_time": "2016-07-06T23:55:01.541000",
     "start_time": "2016-07-06T23:55:01.245000"
    }
   },
   "outputs": [
    {
     "data": {
      "image/png": "[encoded data removed]",
      "text/plain": [
       "<Figure size 432x288 with 1 Axes>"
      ]
     },
     "metadata": {
      "needs_background": "light"
     },
     "output_type": "display_data"
    }
   ],
   "source": [
    "plt.plot(np.mean(ious, axis=0), label='Mean IOU')  # between predicted and assigned true bboxes\n",
    "plt.plot(np.mean(dists, axis=0), label='Mean distance')  # relative to image size\n",
    "plt.plot(np.mean(shape_accuracy, axis=0), label='Mean shape')\n",
    "\n",
    "mean_ious_epoch = np.mean(ious, axis = 0)\n",
    "mean_dists_epoch = np.mean(dists, axis = 0)\n",
    "mean_shape_epoch = np.mean(shape_accuracy, axis = 0)\n",
    "\n",
    "plt.annotate(np.round(np.max(mean_ious_epoch), 3), (len(mean_ious_epoch) - 1, mean_ious_epoch[-1] + 0.02), horizontalalignment = 'right', color = 'purple')\n",
    "plt.annotate(np.round(np.min(mean_dists_epoch), 3), (len(mean_dists_epoch) - 1, mean_dists_epoch[-1] + 0.02), horizontalalignment = 'right', color = 'r')\n",
    "plt.annotate(np.round(np.min(mean_shape_epoch), 3), (len(mean_shape_epoch) - 1, mean_shape_epoch[-1] + 0.02), horizontalalignment = 'right', color = 'g')\n",
    "\n",
    "#ax = plt.gca()\n",
    "#ax.axes.yaxis.set_visible(False)\n",
    "\n",
    "plt.legend()\n",
    "plt.xlabel('Epoch')\n",
    "plt.ylim(0, 0.8)\n",
    "\n",
    "plt.savefig('two-rectangles-or-triangles_training_metrics.png', dpi = 100)"
   ]
  },
  {
   "cell_type": "code",
   "execution_count": 65,
   "metadata": {
    "ExecuteTime": {
     "end_time": "2016-07-06T23:55:02.905000",
     "start_time": "2016-07-06T23:55:02.569000"
    }
   },
   "outputs": [
    {
     "data": {
      "text/plain": [
       "((10000, 2, 4), (10000, 2, 1))"
      ]
     },
     "execution_count": 65,
     "metadata": {},
     "output_type": "execute_result"
    }
   ],
   "source": [
    "pred_y = model.predict(test_X)\n",
    "pred_y = pred_y.reshape(len(pred_y), num_objects, -1)\n",
    "pred_bboxes = pred_y[..., :4] * img_size\n",
    "pred_shapes = pred_y[..., 4:5]\n",
    "pred_bboxes.shape, pred_shapes.shape"
   ]
  },
  {
   "cell_type": "code",
   "execution_count": 66,
   "metadata": {
    "ExecuteTime": {
     "end_time": "2016-07-06T23:57:24.479000",
     "start_time": "2016-07-06T23:57:22.606000"
    }
   },
   "outputs": [
    {
     "data": {
      "image/png": "[encoded data removed]",
      "text/plain": [
       "<Figure size 1152x576 with 4 Axes>"
      ]
     },
     "metadata": {
      "needs_background": "light"
     },
     "output_type": "display_data"
    }
   ],
   "source": [
    "plt.figure(figsize=(16, 8))\n",
    "for i_subplot in range(1, 5):\n",
    "    plt.subplot(1, 4, i_subplot)\n",
    "    i = np.random.randint(len(test_X))\n",
    "    plt.imshow(test_imgs[i].T, cmap='Greys', interpolation='none', origin='lower', extent=[0, img_size, 0, img_size])\n",
    "    for pred_bbox, exp_bbox, pred_shape in zip(pred_bboxes[i], test_bboxes[i], pred_shapes[i]):\n",
    "        plt.gca().add_patch(matplotlib.patches.Rectangle((pred_bbox[0], pred_bbox[1]), pred_bbox[2], pred_bbox[3], lw = '2', ec='r' if pred_shape[0] <= 0.5 else 'b', fc='none'))\n",
    "        # TODO: Calculate max IOU with all expected bounding boxes.\n",
    "#         plt.annotate('IOU: {:.2f}'.format(IOU(pred_bbox, exp_bbox)), (pred_bbox[0], pred_bbox[1]+pred_bbox[3]+0.4), color='r')\n",
    "\n",
    "plt.savefig('two-rectangles-or-triangles-results.png', dpi=300)"
   ]
  },
  {
   "cell_type": "code",
   "execution_count": 67,
   "metadata": {},
   "outputs": [
    {
     "data": {
      "text/plain": [
       "0.43941168057614005"
      ]
     },
     "execution_count": 67,
     "metadata": {},
     "output_type": "execute_result"
    }
   ],
   "source": [
    "from keras.models import load_model\n",
    "model_test =  load_model(\"Two_Rectangles_or_Triangles_model.h5\")\n",
    "pred_y = model_test.predict(test_X)\n",
    "summed_IOU = 0.\n",
    "\n",
    "\n",
    "for pred_bbox, test_bbox in zip(pred_y, test_y):\n",
    "    iou = IOU(pred_bbox[:4], test_bbox[:4]) + IOU(pred_bbox[5:], test_bbox[5:])\n",
    "    iou_flipped = IOU(pred_bbox[:4], test_bbox[5:]) + IOU(pred_bbox[5:], test_bbox[:4])\n",
    "    \n",
    "    if iou > iou_flipped:\n",
    "        summed_IOU += iou\n",
    "    else:\n",
    "        summed_IOU += iou_flipped\n",
    "        \n",
    "mean_IOU = summed_IOU / (len(pred_bboxes)* num_objects)\n",
    "mean_IOU"
   ]
  },
  {
   "cell_type": "code",
   "execution_count": null,
   "metadata": {},
   "outputs": [],
   "source": []
  }
 ],
 "metadata": {
  "kernelspec": {
   "display_name": "Python 3",
   "language": "python",
   "name": "python3"
  },
  "language_info": {
   "codemirror_mode": {
    "name": "ipython",
    "version": 3
   },
   "file_extension": ".py",
   "mimetype": "text/x-python",
   "name": "python",
   "nbconvert_exporter": "python",
   "pygments_lexer": "ipython3",
   "version": "3.8.3"
  },
  "toc": {
   "nav_menu": {},
   "number_sections": true,
   "sideBar": true,
   "skip_h1_title": false,
   "title_cell": "Table of Contents",
   "title_sidebar": "Contents",
   "toc_cell": false,
   "toc_position": {},
   "toc_section_display": true,
   "toc_window_display": false
  }
 },
 "nbformat": 4,
 "nbformat_minor": 1
}
