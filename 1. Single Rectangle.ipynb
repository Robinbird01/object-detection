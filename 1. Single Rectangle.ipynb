{
 "cells": [
  {
   "cell_type": "markdown",
   "metadata": {},
   "source": [
    "# Single Rectangle Detection"
   ]
  },
  {
   "cell_type": "markdown",
   "metadata": {},
   "source": [
    "## Import Packages"
   ]
  },
  {
   "cell_type": "code",
   "execution_count": 2,
   "metadata": {},
   "outputs": [],
   "source": [
    "import numpy as np\n",
    "import matplotlib.pyplot as plt\n",
    "import matplotlib\n",
    "%matplotlib inline"
   ]
  },
  {
   "cell_type": "markdown",
   "metadata": {},
   "source": [
    "## Data Generation"
   ]
  },
  {
   "cell_type": "code",
   "execution_count": 3,
   "metadata": {},
   "outputs": [
    {
     "name": "stdout",
     "output_type": "stream",
     "text": [
      "Image Shape: (50000, 8, 8)\n",
      "Bounding Box Shape: (50000, 1, 4)\n"
     ]
    }
   ],
   "source": [
    "# Create images with random rectangles and bounding boxes. \n",
    "num_imgs = 50000\n",
    "\n",
    "img_size = 8\n",
    "min_object_size = 1\n",
    "max_object_size = 4\n",
    "num_objects = 1\n",
    "\n",
    "# create and zero two arrays, one is for the bounding boxes, the other is for the images\n",
    "bboxes = np.zeros((num_imgs, num_objects, 4))\n",
    "# set the pixel value of the background to 0\n",
    "imgs = np.zeros((num_imgs, img_size, img_size))\n",
    "\n",
    "for i_img in range(num_imgs):\n",
    "    for i_object in range(num_objects):\n",
    "        # set the width and height of the rectangle\n",
    "        w, h = np.random.randint(min_object_size, max_object_size, size = 2)\n",
    "        # set the location (x, y) of the rectangle\n",
    "        x = np.random.randint(0, img_size - w)\n",
    "        y = np.random.randint(0, img_size - h)\n",
    "        # set the pixel value of the rectangle to 1\n",
    "        imgs[i_img, x:x + w, y:y + h] = 1.0\n",
    "        bboxes[i_img, i_object] = [x, y, w, h]\n",
    "        \n",
    "print(\"Image Shape: {}\".format(imgs.shape))\n",
    "print(\"Bounding Box Shape: {}\".format(bboxes.shape))"
   ]
  },
  {
   "cell_type": "code",
   "execution_count": 4,
   "metadata": {
    "scrolled": true
   },
   "outputs": [
    {
     "data": {
      "image/png": "[encoded data removed]",
      "text/plain": [
       "<Figure size 432x288 with 1 Axes>"
      ]
     },
     "metadata": {
      "needs_background": "light"
     },
     "output_type": "display_data"
    }
   ],
   "source": [
    "i = 0\n",
    "# origin: place the [0, 0] index of the array in the upper left or lower left corner of the axes\n",
    "# extent: floats(left, right, bottom, top)\n",
    "plt.imshow(imgs[i].T, cmap = 'Greys', interpolation = 'none', origin = 'lower', extent = [0, img_size, 0, img_size])\n",
    "# tranverse(.T) and flip upside down(origin = 'lower') to fit in the bounding box\n",
    "for bbox in bboxes[i]:\n",
    "    plt.gca().add_patch(matplotlib.patches.Rectangle((bbox[0], bbox[1]), bbox[2], bbox[3], lw = 2, ec = 'r', fc = 'none'))\n",
    "    # patches.Rectangle((x, y), w, h, linewidth, edgecolor, facecolor)"
   ]
  },
  {
   "cell_type": "markdown",
   "metadata": {},
   "source": [
    "## Preprocessing"
   ]
  },
  {
   "cell_type": "code",
   "execution_count": 5,
   "metadata": {},
   "outputs": [
    {
     "data": {
      "text/plain": [
       "((50000, 64), 6.114664330425512e-17, 0.9999999999999993)"
      ]
     },
     "execution_count": 5,
     "metadata": {},
     "output_type": "execute_result"
    }
   ],
   "source": [
    "# Reshape and normalize the image data to mean 0 and std 1. \n",
    "X = (imgs.reshape(num_imgs, -1) - np.mean(imgs)) / np.std(imgs)\n",
    "X.shape, np.mean(X), np.std(X)"
   ]
  },
  {
   "cell_type": "code",
   "execution_count": 6,
   "metadata": {},
   "outputs": [
    {
     "data": {
      "text/plain": [
       "((50000, 4), 0.280968125, 0.17527065743867218)"
      ]
     },
     "execution_count": 6,
     "metadata": {},
     "output_type": "execute_result"
    }
   ],
   "source": [
    "# Normalize x, y, w, h by img_size, so that all values are between 0 and 1.\n",
    "# Important: Do not shift to negative values (e.g. by setting to mean 0), because the IOU calculation needs positive w and h.\n",
    "y = bboxes.reshape(num_imgs, -1) / img_size\n",
    "y.shape, np.mean(y), np.std(y)"
   ]
  },
  {
   "cell_type": "markdown",
   "metadata": {},
   "source": [
    "## Train Test Split"
   ]
  },
  {
   "cell_type": "code",
   "execution_count": 7,
   "metadata": {},
   "outputs": [],
   "source": [
    "# Split training and test.\n",
    "i = int(0.8 * num_imgs)\n",
    "train_X, test_X = X[:i], X[i:]\n",
    "train_y ,test_y = y[:i], y[i:]\n",
    "test_imgs = imgs[i:]\n",
    "test_bboxes = bboxes[i:]"
   ]
  },
  {
   "cell_type": "markdown",
   "metadata": {},
   "source": [
    "## Model"
   ]
  },
  {
   "cell_type": "code",
   "execution_count": 8,
   "metadata": {},
   "outputs": [
    {
     "name": "stdout",
     "output_type": "stream",
     "text": [
      "Model: \"sequential\"\n",
      "_________________________________________________________________\n",
      "Layer (type)                 Output Shape              Param #   \n",
      "=================================================================\n",
      "dense (Dense)                (None, 200)               13000     \n",
      "_________________________________________________________________\n",
      "activation (Activation)      (None, 200)               0         \n",
      "_________________________________________________________________\n",
      "dropout (Dropout)            (None, 200)               0         \n",
      "_________________________________________________________________\n",
      "dense_1 (Dense)              (None, 4)                 804       \n",
      "=================================================================\n",
      "Total params: 13,804\n",
      "Trainable params: 13,804\n",
      "Non-trainable params: 0\n",
      "_________________________________________________________________\n"
     ]
    }
   ],
   "source": [
    "# Build the model.\n",
    "from keras.models import Sequential\n",
    "from keras.layers import Dense, Activation, Dropout\n",
    "from keras.callbacks import ModelCheckpoint\n",
    "model = Sequential([\n",
    "        Dense(200, input_dim = X.shape[-1]),\n",
    "        Activation('relu'), \n",
    "        Dropout(0.2), \n",
    "        Dense(y.shape[-1])\n",
    "        ])\n",
    "model.compile(loss = 'mse', optimizer = 'adam', metrics = ['accuracy'])\n",
    "model.summary()"
   ]
  },
  {
   "cell_type": "markdown",
   "metadata": {},
   "source": [
    "## Training"
   ]
  },
  {
   "cell_type": "code",
   "execution_count": 9,
   "metadata": {},
   "outputs": [
    {
     "name": "stdout",
     "output_type": "stream",
     "text": [
      "Epoch 1/30\n",
      "1250/1250 [==============================] - 6s 5ms/step - loss: 0.0257 - accuracy: 0.7035 - val_loss: 7.5970e-04 - val_accuracy: 0.8812\n",
      "Epoch 2/30\n",
      "1250/1250 [==============================] - 3s 2ms/step - loss: 0.0023 - accuracy: 0.8451 - val_loss: 2.7411e-04 - val_accuracy: 0.9123\n",
      "Epoch 3/30\n",
      "1250/1250 [==============================] - 2s 2ms/step - loss: 0.0014 - accuracy: 0.8504 - val_loss: 2.1563e-04 - val_accuracy: 0.8622\n",
      "Epoch 4/30\n",
      "1250/1250 [==============================] - 2s 2ms/step - loss: 0.0011 - accuracy: 0.8487 - val_loss: 1.6952e-04 - val_accuracy: 0.8562\n",
      "Epoch 5/30\n",
      "1250/1250 [==============================] - 2s 2ms/step - loss: 9.5252e-04 - accuracy: 0.8480 - val_loss: 1.8392e-04 - val_accuracy: 0.8991\n",
      "Epoch 6/30\n",
      "1250/1250 [==============================] - 2s 2ms/step - loss: 8.7856e-04 - accuracy: 0.8480 - val_loss: 1.3955e-04 - val_accuracy: 0.8474\n",
      "Epoch 7/30\n",
      "1250/1250 [==============================] - 2s 2ms/step - loss: 8.2063e-04 - accuracy: 0.8464 - val_loss: 1.6944e-04 - val_accuracy: 0.8531\n",
      "Epoch 8/30\n",
      "1250/1250 [==============================] - 2s 2ms/step - loss: 7.7309e-04 - accuracy: 0.8453 - val_loss: 1.6024e-04 - val_accuracy: 0.8470\n",
      "Epoch 9/30\n",
      "1250/1250 [==============================] - 2s 2ms/step - loss: 7.3804e-04 - accuracy: 0.8468 - val_loss: 2.0781e-04 - val_accuracy: 0.8809\n",
      "Epoch 10/30\n",
      "1250/1250 [==============================] - 2s 2ms/step - loss: 7.1409e-04 - accuracy: 0.8449 - val_loss: 2.5789e-04 - val_accuracy: 0.8813\n",
      "Epoch 11/30\n",
      "1250/1250 [==============================] - 2s 2ms/step - loss: 6.9545e-04 - accuracy: 0.8462 - val_loss: 1.7485e-04 - val_accuracy: 0.8343\n",
      "Epoch 12/30\n",
      "1250/1250 [==============================] - 2s 2ms/step - loss: 6.7132e-04 - accuracy: 0.8478 - val_loss: 1.6149e-04 - val_accuracy: 0.8233\n",
      "Epoch 13/30\n",
      "1250/1250 [==============================] - 2s 2ms/step - loss: 6.6020e-04 - accuracy: 0.8481 - val_loss: 1.3040e-04 - val_accuracy: 0.8148\n",
      "Epoch 14/30\n",
      "1250/1250 [==============================] - 2s 2ms/step - loss: 6.5171e-04 - accuracy: 0.8467 - val_loss: 1.5303e-04 - val_accuracy: 0.8304\n",
      "Epoch 15/30\n",
      "1250/1250 [==============================] - 2s 2ms/step - loss: 6.3050e-04 - accuracy: 0.8482 - val_loss: 1.3813e-04 - val_accuracy: 0.8668\n",
      "Epoch 16/30\n",
      "1250/1250 [==============================] - 2s 2ms/step - loss: 6.3003e-04 - accuracy: 0.8475 - val_loss: 1.3871e-04 - val_accuracy: 0.8529\n",
      "Epoch 17/30\n",
      "1250/1250 [==============================] - 2s 2ms/step - loss: 6.2236e-04 - accuracy: 0.8475 - val_loss: 1.5818e-04 - val_accuracy: 0.8839\n",
      "Epoch 18/30\n",
      "1250/1250 [==============================] - 2s 2ms/step - loss: 6.1892e-04 - accuracy: 0.8461 - val_loss: 1.2967e-04 - val_accuracy: 0.8445\n",
      "Epoch 19/30\n",
      "1250/1250 [==============================] - 2s 2ms/step - loss: 6.0685e-04 - accuracy: 0.8461 - val_loss: 1.2117e-04 - val_accuracy: 0.8603\n",
      "Epoch 20/30\n",
      "1250/1250 [==============================] - 2s 2ms/step - loss: 6.1811e-04 - accuracy: 0.8469 - val_loss: 1.6180e-04 - val_accuracy: 0.8125\n",
      "Epoch 21/30\n",
      "1250/1250 [==============================] - 2s 2ms/step - loss: 6.0472e-04 - accuracy: 0.8456 - val_loss: 1.2368e-04 - val_accuracy: 0.8703\n",
      "Epoch 22/30\n",
      "1250/1250 [==============================] - 2s 2ms/step - loss: 6.0513e-04 - accuracy: 0.8481 - val_loss: 1.4526e-04 - val_accuracy: 0.7922\n",
      "Epoch 23/30\n",
      "1250/1250 [==============================] - 2s 2ms/step - loss: 6.0406e-04 - accuracy: 0.8443 - val_loss: 1.5512e-04 - val_accuracy: 0.9007\n",
      "Epoch 24/30\n",
      "1250/1250 [==============================] - 2s 2ms/step - loss: 6.0586e-04 - accuracy: 0.8456 - val_loss: 1.4417e-04 - val_accuracy: 0.8444\n",
      "Epoch 25/30\n",
      "1250/1250 [==============================] - 2s 2ms/step - loss: 5.9331e-04 - accuracy: 0.8456 - val_loss: 1.5207e-04 - val_accuracy: 0.9261\n",
      "Epoch 26/30\n",
      "1250/1250 [==============================] - 2s 2ms/step - loss: 5.9633e-04 - accuracy: 0.8473 - val_loss: 1.1900e-04 - val_accuracy: 0.8080\n",
      "Epoch 27/30\n",
      "1250/1250 [==============================] - 2s 2ms/step - loss: 5.9363e-04 - accuracy: 0.8459 - val_loss: 1.7750e-04 - val_accuracy: 0.8761\n",
      "Epoch 28/30\n",
      "1250/1250 [==============================] - 2s 2ms/step - loss: 5.8792e-04 - accuracy: 0.8467 - val_loss: 1.2558e-04 - val_accuracy: 0.8925\n",
      "Epoch 29/30\n",
      "1250/1250 [==============================] - 2s 2ms/step - loss: 5.8984e-04 - accuracy: 0.8472 - val_loss: 1.0222e-04 - val_accuracy: 0.8098\n",
      "Epoch 30/30\n",
      "1250/1250 [==============================] - 2s 2ms/step - loss: 5.8291e-04 - accuracy: 0.8484 - val_loss: 1.5227e-04 - val_accuracy: 0.8392\n"
     ]
    },
    {
     "data": {
      "text/plain": [
       "<tensorflow.python.keras.callbacks.History at 0x2180a4f7cd0>"
      ]
     },
     "execution_count": 9,
     "metadata": {},
     "output_type": "execute_result"
    }
   ],
   "source": [
    "# Train\n",
    "model.fit(train_X, train_y, epochs = 30, validation_data = (test_X, test_y), verbose = 1,\n",
    "          callbacks = [ModelCheckpoint('Single_Rectangle_model.h5',\n",
    "                                       monitor = 'val_accuracy',\n",
    "                                       save_best_only = True)])"
   ]
  },
  {
   "cell_type": "markdown",
   "metadata": {},
   "source": [
    "## Prediction"
   ]
  },
  {
   "cell_type": "code",
   "execution_count": 10,
   "metadata": {},
   "outputs": [
    {
     "data": {
      "text/plain": [
       "(10000, 1, 4)"
      ]
     },
     "execution_count": 10,
     "metadata": {},
     "output_type": "execute_result"
    }
   ],
   "source": [
    "# Predict bounding boxes on the test images.\n",
    "from keras.models import load_model\n",
    "model_test = load_model('Single_Rectangle_model.h5')\n",
    "prediction = model_test.predict(test_X)\n",
    "pred_bboxes = prediction * img_size\n",
    "pred_bboxes = pred_bboxes.reshape(len(pred_bboxes), num_objects, -1)\n",
    "pred_bboxes.shape"
   ]
  },
  {
   "cell_type": "markdown",
   "metadata": {},
   "source": [
    "## IoU Calculating Function"
   ]
  },
  {
   "cell_type": "code",
   "execution_count": 11,
   "metadata": {},
   "outputs": [],
   "source": [
    "def IOU(bbox1, bbox2):\n",
    "    '''Calculate overlap between two bounding boxes [x, y, w, h] as the area of intersection over the area of unity'''\n",
    "    x1, y1, w1, h1 = bbox1[0], bbox1[1], bbox1[2], bbox1[3]\n",
    "    x2, y2, w2, h2 = bbox2[0], bbox2[1], bbox2[2], bbox2[3]\n",
    "\n",
    "    w_I = min(x1 + w1, x2 + w2) - max(x1, x2)\n",
    "    h_I = min(y1 + h1, y2 + h2) - max(y1, y2)\n",
    "    if w_I <= 0 or h_I <= 0:  # no overlap\n",
    "        return 0.\n",
    "    I = w_I * h_I\n",
    "\n",
    "    U = w1 * h1 + w2 * h2 - I\n",
    "\n",
    "    return I / U"
   ]
  },
  {
   "cell_type": "markdown",
   "metadata": {},
   "source": [
    "## Visualize Results"
   ]
  },
  {
   "cell_type": "code",
   "execution_count": 12,
   "metadata": {
    "scrolled": true
   },
   "outputs": [
    {
     "data": {
      "image/png": "[encoded data removed]",
      "text/plain": [
       "<Figure size 864x216 with 4 Axes>"
      ]
     },
     "metadata": {
      "needs_background": "light"
     },
     "output_type": "display_data"
    }
   ],
   "source": [
    "# Show a few images and predicted bounding boxes from the test dataset. \n",
    "plt.figure(figsize = (12, 3))\n",
    "for i_subplot in range(1, 5):\n",
    "    plt.subplot(1, 4, i_subplot)\n",
    "    i = np.random.randint(len(test_imgs))\n",
    "    plt.imshow(test_imgs[i].T, cmap = 'Greys', interpolation = 'none', origin = 'lower', extent = [0, img_size, 0, img_size])\n",
    "    for pred_bbox, exp_bbox in zip(pred_bboxes[i], test_bboxes[i]):\n",
    "        plt.gca().add_patch(matplotlib.patches.Rectangle((pred_bbox[0], pred_bbox[1]), pred_bbox[2], pred_bbox[3], lw = 2, ec = 'r', fc = 'none'))\n",
    "        plt.annotate(\"IOU: {:.2f}\".format(IOU(pred_bbox, exp_bbox)), (pred_bbox[0], pred_bbox[1] + pred_bbox[3] + 0.2), color = 'r')\n",
    "        # plt.annotate(text, (x, y), color)\n",
    "        \n",
    "plt.savefig(\"single-rectangle_prediction.png\", dpi = 100)"
   ]
  },
  {
   "cell_type": "markdown",
   "metadata": {},
   "source": [
    "## Metris Track"
   ]
  },
  {
   "cell_type": "code",
   "execution_count": 13,
   "metadata": {},
   "outputs": [
    {
     "ename": "NameError",
     "evalue": "name 'ious_epoch' is not defined",
     "output_type": "error",
     "traceback": [
      "\u001b[1;31m---------------------------------------------------------------------------\u001b[0m",
      "\u001b[1;31mNameError\u001b[0m                                 Traceback (most recent call last)",
      "\u001b[1;32m<ipython-input-13-371d84f99f4b>\u001b[0m in \u001b[0;36m<module>\u001b[1;34m\u001b[0m\n\u001b[0;32m      1\u001b[0m \u001b[1;31m# Plot metrics on the training data.\u001b[0m\u001b[1;33m\u001b[0m\u001b[1;33m\u001b[0m\u001b[1;33m\u001b[0m\u001b[0m\n\u001b[1;32m----> 2\u001b[1;33m \u001b[0mmean_ious_epoch\u001b[0m \u001b[1;33m=\u001b[0m \u001b[0mnp\u001b[0m\u001b[1;33m.\u001b[0m\u001b[0mmean\u001b[0m\u001b[1;33m(\u001b[0m\u001b[0mious_epoch\u001b[0m\u001b[1;33m,\u001b[0m \u001b[0maxis\u001b[0m \u001b[1;33m=\u001b[0m \u001b[1;36m0\u001b[0m\u001b[1;33m)\u001b[0m\u001b[1;33m\u001b[0m\u001b[1;33m\u001b[0m\u001b[0m\n\u001b[0m\u001b[0;32m      3\u001b[0m \u001b[0mmean_dists_epoch\u001b[0m \u001b[1;33m=\u001b[0m \u001b[0mnp\u001b[0m\u001b[1;33m.\u001b[0m\u001b[0mmean\u001b[0m\u001b[1;33m(\u001b[0m\u001b[0mdists_epoch\u001b[0m\u001b[1;33m,\u001b[0m \u001b[0maxis\u001b[0m \u001b[1;33m=\u001b[0m \u001b[1;36m0\u001b[0m\u001b[1;33m)\u001b[0m\u001b[1;33m\u001b[0m\u001b[1;33m\u001b[0m\u001b[0m\n\u001b[0;32m      4\u001b[0m \u001b[0mmean_mses_epoch\u001b[0m \u001b[1;33m=\u001b[0m \u001b[0mnp\u001b[0m\u001b[1;33m.\u001b[0m\u001b[0mmean\u001b[0m\u001b[1;33m(\u001b[0m\u001b[0mmses_epoch\u001b[0m\u001b[1;33m,\u001b[0m \u001b[0maxis\u001b[0m \u001b[1;33m=\u001b[0m \u001b[1;36m0\u001b[0m\u001b[1;33m)\u001b[0m\u001b[1;33m\u001b[0m\u001b[1;33m\u001b[0m\u001b[0m\n\u001b[0;32m      5\u001b[0m \u001b[0mplt\u001b[0m\u001b[1;33m.\u001b[0m\u001b[0mplot\u001b[0m\u001b[1;33m(\u001b[0m\u001b[0mmean_ious_epoch\u001b[0m\u001b[1;33m,\u001b[0m \u001b[0mlabel\u001b[0m \u001b[1;33m=\u001b[0m \u001b[1;34m'Mean IOU'\u001b[0m\u001b[1;33m)\u001b[0m  \u001b[1;31m# between predicted and assigned true bboxes\u001b[0m\u001b[1;33m\u001b[0m\u001b[1;33m\u001b[0m\u001b[0m\n",
      "\u001b[1;31mNameError\u001b[0m: name 'ious_epoch' is not defined"
     ]
    }
   ],
   "source": [
    "# Plot metrics on the training data. \n",
    "mean_ious_epoch = np.mean(ious_epoch, axis = 0)\n",
    "mean_dists_epoch = np.mean(dists_epoch, axis = 0)\n",
    "mean_mses_epoch = np.mean(mses_epoch, axis = 0)\n",
    "plt.plot(mean_ious_epoch, label = 'Mean IOU')  # between predicted and assigned true bboxes\n",
    "plt.plot(mean_dists_epoch, label = 'Mean distance')  # relative to image size\n",
    "plt.plot(mean_mses_epoch, label = 'Mean mse')\n",
    "# horizontalalignment = 'right': make the annotation text aligns with the right side\n",
    "plt.annotate(np.round(np.max(mean_ious_epoch), 3), (len(mean_ious_epoch) - 1, mean_ious_epoch[-1] + 0.02), horizontalalignment = 'right', color = 'purple')\n",
    "plt.annotate(np.round(np.min(mean_dists_epoch), 3), (len(mean_dists_epoch) - 1, mean_dists_epoch[-1] + 0.02), horizontalalignment = 'right', color = 'g')\n",
    "plt.annotate(np.round(np.min(mean_mses_epoch), 3), (len(mean_mses_epoch) - 1, mean_mses_epoch[-1] + 0.02), horizontalalignment = 'right', color = 'r')\n",
    "\n",
    "# Hide y tick\n",
    "ax = plt.gca()\n",
    "ax.axes.yaxis.set_visible(False)\n",
    "\n",
    "plt.legend()\n",
    "plt.ylim(0, 0.8)\n",
    "plt.savefig('training_metrics.png', dpi = 100)"
   ]
  },
  {
   "cell_type": "markdown",
   "metadata": {},
   "source": [
    "## Overall Assessment"
   ]
  },
  {
   "cell_type": "code",
   "execution_count": null,
   "metadata": {},
   "outputs": [],
   "source": [
    "# Calculate the mean IOU (overlap) between the predicted and expected bounding boxes on the test dataset. \n",
    "summed_IOU = 0.\n",
    "for pred_bbox, test_bbox in zip(pred_bboxes.reshape(-1, 4), test_bboxes.reshape(-1, 4)):\n",
    "    summed_IOU += IOU(pred_bbox, test_bbox)\n",
    "mean_IOU = summed_IOU / len(pred_bboxes)\n",
    "mean_IOU"
   ]
  },
  {
   "cell_type": "code",
   "execution_count": null,
   "metadata": {},
   "outputs": [],
   "source": []
  }
 ],
 "metadata": {
  "kernelspec": {
   "display_name": "Python 3",
   "language": "python",
   "name": "python3"
  },
  "language_info": {
   "codemirror_mode": {
    "name": "ipython",
    "version": 3
   },
   "file_extension": ".py",
   "mimetype": "text/x-python",
   "name": "python",
   "nbconvert_exporter": "python",
   "pygments_lexer": "ipython3",
   "version": "3.8.3"
  }
 },
 "nbformat": 4,
 "nbformat_minor": 4
}
